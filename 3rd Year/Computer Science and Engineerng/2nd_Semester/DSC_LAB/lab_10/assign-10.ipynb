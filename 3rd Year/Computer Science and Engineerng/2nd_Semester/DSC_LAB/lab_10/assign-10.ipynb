{
 "cells": [
  {
   "cell_type": "markdown",
   "id": "06c1696d",
   "metadata": {},
   "source": [
    "## Question 1"
   ]
  },
  {
   "cell_type": "code",
   "execution_count": 70,
   "id": "b60dff3d",
   "metadata": {},
   "outputs": [],
   "source": [
    "import numpy as np\n",
    "import pandas as pd\n",
    "from sklearn.model_selection import train_test_split\n",
    "from matplotlib import pyplot as plt\n",
    "from sklearn.preprocessing import StandardScaler"
   ]
  },
  {
   "cell_type": "code",
   "execution_count": 71,
   "id": "66260a7c",
   "metadata": {},
   "outputs": [
    {
     "data": {
      "text/html": [
       "<div>\n",
       "<style scoped>\n",
       "    .dataframe tbody tr th:only-of-type {\n",
       "        vertical-align: middle;\n",
       "    }\n",
       "\n",
       "    .dataframe tbody tr th {\n",
       "        vertical-align: top;\n",
       "    }\n",
       "\n",
       "    .dataframe thead th {\n",
       "        text-align: right;\n",
       "    }\n",
       "</style>\n",
       "<table border=\"1\" class=\"dataframe\">\n",
       "  <thead>\n",
       "    <tr style=\"text-align: right;\">\n",
       "      <th></th>\n",
       "      <th>SepalLengthCm</th>\n",
       "      <th>SepalWidthCm</th>\n",
       "      <th>PetalLengthCm</th>\n",
       "      <th>PetalWidthCm</th>\n",
       "      <th>Species</th>\n",
       "    </tr>\n",
       "  </thead>\n",
       "  <tbody>\n",
       "    <tr>\n",
       "      <th>0</th>\n",
       "      <td>5.1</td>\n",
       "      <td>3.5</td>\n",
       "      <td>1.4</td>\n",
       "      <td>0.2</td>\n",
       "      <td>Iris-setosa</td>\n",
       "    </tr>\n",
       "    <tr>\n",
       "      <th>1</th>\n",
       "      <td>4.9</td>\n",
       "      <td>3.0</td>\n",
       "      <td>1.4</td>\n",
       "      <td>0.2</td>\n",
       "      <td>Iris-setosa</td>\n",
       "    </tr>\n",
       "    <tr>\n",
       "      <th>2</th>\n",
       "      <td>4.7</td>\n",
       "      <td>3.2</td>\n",
       "      <td>1.3</td>\n",
       "      <td>0.2</td>\n",
       "      <td>Iris-setosa</td>\n",
       "    </tr>\n",
       "    <tr>\n",
       "      <th>3</th>\n",
       "      <td>4.6</td>\n",
       "      <td>3.1</td>\n",
       "      <td>1.5</td>\n",
       "      <td>0.2</td>\n",
       "      <td>Iris-setosa</td>\n",
       "    </tr>\n",
       "    <tr>\n",
       "      <th>4</th>\n",
       "      <td>5.0</td>\n",
       "      <td>3.6</td>\n",
       "      <td>1.4</td>\n",
       "      <td>0.2</td>\n",
       "      <td>Iris-setosa</td>\n",
       "    </tr>\n",
       "  </tbody>\n",
       "</table>\n",
       "</div>"
      ],
      "text/plain": [
       "   SepalLengthCm  SepalWidthCm  PetalLengthCm  PetalWidthCm      Species\n",
       "0            5.1           3.5            1.4           0.2  Iris-setosa\n",
       "1            4.9           3.0            1.4           0.2  Iris-setosa\n",
       "2            4.7           3.2            1.3           0.2  Iris-setosa\n",
       "3            4.6           3.1            1.5           0.2  Iris-setosa\n",
       "4            5.0           3.6            1.4           0.2  Iris-setosa"
      ]
     },
     "execution_count": 71,
     "metadata": {},
     "output_type": "execute_result"
    }
   ],
   "source": [
    "dataset = pd.read_csv('Iris.csv', header=0)\n",
    "dataset.drop('Id', axis=1, inplace=True)\n",
    "dataset.head()"
   ]
  },
  {
   "cell_type": "code",
   "execution_count": 72,
   "id": "67c47a34",
   "metadata": {},
   "outputs": [
    {
     "data": {
      "text/plain": [
       "((150, 4), (150,))"
      ]
     },
     "execution_count": 72,
     "metadata": {},
     "output_type": "execute_result"
    }
   ],
   "source": [
    "x = dataset.iloc[:, :-1]\n",
    "y = dataset.iloc[:, -1]\n",
    "x.shape, y.shape"
   ]
  },
  {
   "cell_type": "code",
   "execution_count": 73,
   "id": "968a4c5f",
   "metadata": {},
   "outputs": [
    {
     "name": "stdout",
     "output_type": "stream",
     "text": [
      "dict_keys(['Iris-setosa', 'Iris-versicolor', 'Iris-virginica'])\n"
     ]
    }
   ],
   "source": [
    "# group the training data into its respective classes\n",
    "\n",
    "d = {}\n",
    "for s, rows in dataset.groupby(['Species']):\n",
    "    d[s] = np.array(rows)[:, :-1]\n",
    "print(d.keys())"
   ]
  },
  {
   "cell_type": "code",
   "execution_count": 74,
   "id": "da96df1d",
   "metadata": {},
   "outputs": [
    {
     "name": "stdout",
     "output_type": "stream",
     "text": [
      "[5.84333333 3.054      3.75866667 1.19866667]\n",
      "\n",
      "\n",
      "[[5.006 3.418 1.464 0.244]\n",
      " [5.936 2.77  4.26  1.326]\n",
      " [6.588 2.974 5.552 2.026]]\n"
     ]
    }
   ],
   "source": [
    "#claculate the mean vector of given training data of K-dimensions excluding the target class \n",
    "\n",
    "\n",
    "featureMean = x.mean().values\n",
    "classMean = dataset.groupby(['Species']).mean().values\n",
    "print(featureMean)\n",
    "print(\"\\n\")\n",
    "print(classMean)"
   ]
  },
  {
   "cell_type": "code",
   "execution_count": 75,
   "id": "29c18ca2",
   "metadata": {},
   "outputs": [
    {
     "name": "stdout",
     "output_type": "stream",
     "text": [
      "Class-wise means:\n",
      "                 SepalLengthCm  SepalWidthCm  PetalLengthCm  PetalWidthCm\n",
      "Species                                                                  \n",
      "Iris-setosa              5.006         3.418          1.464         0.244\n",
      "Iris-versicolor          5.936         2.770          4.260         1.326\n",
      "Iris-virginica           6.588         2.974          5.552         2.026\n"
     ]
    }
   ],
   "source": [
    "#and calculate class-wise mean vector for the given training data\n",
    "# print(x.mean())\n",
    "print(\"Class-wise means:\")\n",
    "print(dataset.groupby(['Species']).mean())"
   ]
  },
  {
   "cell_type": "code",
   "execution_count": 76,
   "id": "4c4a230d",
   "metadata": {},
   "outputs": [
    {
     "name": "stdout",
     "output_type": "stream",
     "text": [
      "Scatter within Classes: \n",
      "[[38.95620000000002 13.683 24.614000000000004 5.6556000000000015]\n",
      " [13.683 17.03500000000001 8.12 4.913200000000002]\n",
      " [24.614000000000004 8.12 27.220000000000006 6.2536000000000005]\n",
      " [5.6556000000000015 4.913200000000002 6.2536000000000005\n",
      "  6.175599999999999]]\n"
     ]
    }
   ],
   "source": [
    "#claculate the scatter matrices needed to maximize the difference between means of given classes\n",
    "#and minimize the variance of given classes\n",
    "\n",
    "#scatter within classes\n",
    "SWC = np.zeros((x.shape[1], x.shape[1]))\n",
    "i = 0\n",
    "for key in d.keys():\n",
    "    classwiseMean = classMean[i].reshape(-1, 1)\n",
    "    s = np.zeros(SWC.shape)\n",
    "    for a in d[key]:\n",
    "        a = a.reshape(-1, 1)\n",
    "        s = s + np.dot((a-classwiseMean), ((a-classwiseMean).T))\n",
    "    SWC = SWC + s\n",
    "    i += 1\n",
    "print(\"Scatter within Classes: \")\n",
    "print(SWC)"
   ]
  },
  {
   "cell_type": "code",
   "execution_count": 77,
   "id": "fe6c1c71",
   "metadata": {},
   "outputs": [],
   "source": [
    "n = dataset['Species'].value_counts().values"
   ]
  },
  {
   "cell_type": "code",
   "execution_count": 78,
   "id": "392fb72f",
   "metadata": {},
   "outputs": [
    {
     "name": "stdout",
     "output_type": "stream",
     "text": [
      "[[ 63.21213333 -19.534      165.16466667  71.36306667]\n",
      " [-19.534       10.9776     -56.0552     -22.4924    ]\n",
      " [165.16466667 -56.0552     436.64373333 186.90813333]\n",
      " [ 71.36306667 -22.4924     186.90813333  80.60413333]]\n"
     ]
    }
   ],
   "source": [
    "#scatter between classes for each classes\n",
    "SBC = np.zeros(SWC.shape)\n",
    "for i in range(3):\n",
    "    classwise_mean = classMean[i].reshape(-1,1)\n",
    "    featureswise_mean = featureMean.reshape(-1,1)\n",
    "    SBC += n[i]*np.dot((classwise_mean-featureswise_mean), (classwise_mean-featureswise_mean).T)\n",
    "\n",
    "print(SBC)"
   ]
  },
  {
   "cell_type": "code",
   "execution_count": 79,
   "id": "f4b41a0a",
   "metadata": {},
   "outputs": [
    {
     "name": "stdout",
     "output_type": "stream",
     "text": [
      "[3.22719578e+01 2.77566864e-01 2.86057914e-15 7.28263021e-15]\n",
      "[[-0.20490976 -0.00898234 -0.83287318 -0.4915145 ]\n",
      " [-0.38714331 -0.58899857  0.38982272 -0.11747774]\n",
      " [ 0.54648218  0.25428655  0.38892165 -0.18951674]\n",
      " [ 0.71378517 -0.76703217 -0.05568185  0.84184077]]\n"
     ]
    }
   ],
   "source": [
    "#claculate the eigen values of M and get the eigen vector pairs for the first n needed dimensions\n",
    "SWC = SWC.astype('float64')\n",
    "eigen_values, eigen_vectors = np.linalg.eig(np.linalg.inv(SWC).dot(SBC))\n",
    "\n",
    "print(eigen_values)\n",
    "print(eigen_vectors)"
   ]
  },
  {
   "cell_type": "code",
   "execution_count": 80,
   "id": "4633d4ad",
   "metadata": {},
   "outputs": [
    {
     "name": "stdout",
     "output_type": "stream",
     "text": [
      "[3.22719578e+01 2.77566864e-01 2.86057914e-15 7.28263021e-15]\n",
      "[2.86057914e-15 7.28263021e-15 2.77566864e-01 3.22719578e+01]\n",
      "[3.22719578e+01 2.77566864e-01 7.28263021e-15 2.86057914e-15]\n"
     ]
    }
   ],
   "source": [
    "#sorting eigen vectors by decreasing eigen values\n",
    "print(eigen_values)\n",
    "print(eigen_values[eigen_values.argsort()])\n",
    "print(eigen_values[(-eigen_values).argsort()[:]])"
   ]
  },
  {
   "cell_type": "code",
   "execution_count": 81,
   "id": "8c6d4474",
   "metadata": {},
   "outputs": [
    {
     "name": "stdout",
     "output_type": "stream",
     "text": [
      "BEFORE SORTING:\n",
      "[3.22719578e+01 2.77566864e-01 2.86057914e-15 7.28263021e-15]\n",
      "AFTER SORTING:\n",
      "[3.22719578e+01 2.77566864e-01 7.28263021e-15 2.86057914e-15]\n",
      "SORTED EIGEN VECTORS\n",
      "[[-0.20490976 -0.00898234 -0.4915145  -0.83287318]\n",
      " [-0.38714331 -0.58899857 -0.11747774  0.38982272]\n",
      " [ 0.54648218  0.25428655 -0.18951674  0.38892165]\n",
      " [ 0.71378517 -0.76703217  0.84184077 -0.05568185]]\n"
     ]
    }
   ],
   "source": [
    "#if we negate the values then we get the descending order sorted indices\n",
    "sorted_indices=np.argsort(-eigen_values)      \n",
    "print(\"BEFORE SORTING:\")\n",
    "print(eigen_values)    \n",
    "sorted_eigenvalues=eigen_values[sorted_indices]  \n",
    "print(\"AFTER SORTING:\") \n",
    "print(sorted_eigenvalues)\n",
    "#applied to all columns\n",
    "sorted_eigenvectors=eigen_vectors[:,sorted_indices] \n",
    "print(\"SORTED EIGEN VECTORS\")\n",
    "print(sorted_eigenvectors)"
   ]
  },
  {
   "cell_type": "code",
   "execution_count": 82,
   "id": "66c3e36c",
   "metadata": {},
   "outputs": [
    {
     "name": "stdout",
     "output_type": "stream",
     "text": [
      "[[-0.20490976 -0.00898234]\n",
      " [-0.38714331 -0.58899857]\n",
      " [ 0.54648218  0.25428655]\n",
      " [ 0.71378517 -0.76703217]]\n"
     ]
    }
   ],
   "source": [
    "# choosing k eigen values with the largest eigen values\n",
    "#lets say k=2\n",
    "k=2\n",
    "weights_matrix = sorted_eigenvectors[:, 0:k]\n",
    "\n",
    "#first column in our rearranges eigen vector matrix will be a linear discriminant component\n",
    "#that captures the higest variability\n",
    "print(weights_matrix)"
   ]
  },
  {
   "cell_type": "code",
   "execution_count": 83,
   "id": "58de3155",
   "metadata": {},
   "outputs": [
    {
     "data": {
      "text/plain": [
       "(150, 2)"
      ]
     },
     "execution_count": 83,
     "metadata": {},
     "output_type": "execute_result"
    }
   ],
   "source": [
    "# transforming the samples onto the new subspace\n",
    "x_lda = np.array(x.dot(weights_matrix))\n",
    "x_lda.shape"
   ]
  },
  {
   "cell_type": "code",
   "execution_count": null,
   "id": "28dd4b3f",
   "metadata": {},
   "outputs": [],
   "source": []
  },
  {
   "cell_type": "code",
   "execution_count": null,
   "id": "a777bf96",
   "metadata": {},
   "outputs": [],
   "source": []
  },
  {
   "cell_type": "markdown",
   "id": "ccd331bf",
   "metadata": {},
   "source": [
    "## Question 2"
   ]
  },
  {
   "cell_type": "code",
   "execution_count": 84,
   "id": "70b552eb",
   "metadata": {},
   "outputs": [
    {
     "name": "stdout",
     "output_type": "stream",
     "text": [
      "   Alcohol  Malic_Acid   Ash  Ash_Alcanity  Magnesium  Total_Phenols  \\\n",
      "0    14.23        1.71  2.43          15.6        127           2.80   \n",
      "1    13.20        1.78  2.14          11.2        100           2.65   \n",
      "2    13.16        2.36  2.67          18.6        101           2.80   \n",
      "3    14.37        1.95  2.50          16.8        113           3.85   \n",
      "4    13.24        2.59  2.87          21.0        118           2.80   \n",
      "\n",
      "   Flavanoids  Nonflavanoid_Phenols  Proanthocyanins  Color_Intensity   Hue  \\\n",
      "0        3.06                  0.28             2.29             5.64  1.04   \n",
      "1        2.76                  0.26             1.28             4.38  1.05   \n",
      "2        3.24                  0.30             2.81             5.68  1.03   \n",
      "3        3.49                  0.24             2.18             7.80  0.86   \n",
      "4        2.69                  0.39             1.82             4.32  1.04   \n",
      "\n",
      "   OD280  Proline  Customer_Segment  \n",
      "0   3.92     1065                 1  \n",
      "1   3.40     1050                 1  \n",
      "2   3.17     1185                 1  \n",
      "3   3.45     1480                 1  \n",
      "4   2.93      735                 1  \n"
     ]
    }
   ],
   "source": [
    "data = pd.read_csv('Wine.csv')\n",
    "print(data.head())"
   ]
  },
  {
   "cell_type": "code",
   "execution_count": 85,
   "id": "efd4355f",
   "metadata": {},
   "outputs": [
    {
     "data": {
      "text/plain": [
       "((178, 13), (178,))"
      ]
     },
     "execution_count": 85,
     "metadata": {},
     "output_type": "execute_result"
    }
   ],
   "source": [
    "X = data.iloc[:, :-1]\n",
    "Y = data.iloc[:, -1]\n",
    "X.shape, Y.shape"
   ]
  },
  {
   "cell_type": "code",
   "execution_count": 86,
   "id": "04f0dbe4",
   "metadata": {},
   "outputs": [],
   "source": [
    "# feature scaling\n",
    "from sklearn.preprocessing import StandardScaler\n",
    "scaler = StandardScaler()"
   ]
  },
  {
   "cell_type": "code",
   "execution_count": 87,
   "id": "780b42a9",
   "metadata": {},
   "outputs": [],
   "source": [
    "X = scaler.fit_transform(X)"
   ]
  },
  {
   "cell_type": "code",
   "execution_count": 88,
   "id": "e218f8af",
   "metadata": {},
   "outputs": [],
   "source": [
    "#split the dataset\n",
    "from sklearn.model_selection import train_test_split as split_data"
   ]
  },
  {
   "cell_type": "code",
   "execution_count": 89,
   "id": "5bf915f5",
   "metadata": {},
   "outputs": [
    {
     "data": {
      "text/plain": [
       "((124, 13), (54, 13), (124,), (54,))"
      ]
     },
     "execution_count": 89,
     "metadata": {},
     "output_type": "execute_result"
    }
   ],
   "source": [
    "train_x, test_x, train_y, test_y = split_data(X, Y, test_size=0.3, shuffle=True)\n",
    "train_x.shape, test_x.shape, train_y.shape, test_y.shape"
   ]
  },
  {
   "cell_type": "code",
   "execution_count": 90,
   "id": "80fdac90",
   "metadata": {},
   "outputs": [],
   "source": [
    "#apply lda\n",
    "from sklearn.discriminant_analysis import LinearDiscriminantAnalysis as LDA\n",
    "\n",
    "lda = LDA(n_components = 1)\n",
    "train_x = lda.fit_transform(train_x, train_y)\n",
    "test_x = lda.transform(test_x)"
   ]
  },
  {
   "cell_type": "code",
   "execution_count": 91,
   "id": "5697ab3e",
   "metadata": {},
   "outputs": [],
   "source": [
    "#train the model with logistic regression\n",
    "from sklearn.linear_model import LogisticRegression as LR\n",
    "clf = LR()\n",
    "clf.fit(train_x, train_y)\n",
    "pred_y = clf.predict(test_x)"
   ]
  },
  {
   "cell_type": "code",
   "execution_count": 92,
   "id": "34d6c58b",
   "metadata": {},
   "outputs": [
    {
     "name": "stdout",
     "output_type": "stream",
     "text": [
      "Confusion matrix\n",
      "[[19  0  0]\n",
      " [ 1 21  1]\n",
      " [ 0  0 12]]\n",
      "Accuracy: 0.96\n"
     ]
    }
   ],
   "source": [
    "#compute the confusion matrix\n",
    "from sklearn.metrics import accuracy_score, confusion_matrix\n",
    "\n",
    "print(\"Confusion matrix\")\n",
    "print(confusion_matrix(test_y, pred_y))\n",
    "print(f\"Accuracy: {str(round(accuracy_score(test_y, pred_y), 2))}\")"
   ]
  },
  {
   "cell_type": "code",
   "execution_count": null,
   "id": "7d6815d9",
   "metadata": {},
   "outputs": [],
   "source": []
  }
 ],
 "metadata": {
  "kernelspec": {
   "display_name": "Python 3 (ipykernel)",
   "language": "python",
   "name": "python3"
  },
  "language_info": {
   "codemirror_mode": {
    "name": "ipython",
    "version": 3
   },
   "file_extension": ".py",
   "mimetype": "text/x-python",
   "name": "python",
   "nbconvert_exporter": "python",
   "pygments_lexer": "ipython3",
   "version": "3.9.7"
  }
 },
 "nbformat": 4,
 "nbformat_minor": 5
}
