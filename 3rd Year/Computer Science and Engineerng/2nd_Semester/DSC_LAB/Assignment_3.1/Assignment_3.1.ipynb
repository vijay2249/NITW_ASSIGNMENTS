{
 "cells": [
  {
   "cell_type": "markdown",
   "id": "1f9ca6b3",
   "metadata": {},
   "source": [
    "## Simple Linear Regression (3.1.1)"
   ]
  },
  {
   "cell_type": "code",
   "execution_count": 46,
   "id": "d8c12a7c",
   "metadata": {},
   "outputs": [],
   "source": [
    "import numpy as np\n",
    "import pandas as pd\n",
    "import matplotlib.pyplot as plt"
   ]
  },
  {
   "cell_type": "code",
   "execution_count": 47,
   "id": "4da467e3",
   "metadata": {},
   "outputs": [
    {
     "data": {
      "text/html": [
       "<div>\n",
       "<style scoped>\n",
       "    .dataframe tbody tr th:only-of-type {\n",
       "        vertical-align: middle;\n",
       "    }\n",
       "\n",
       "    .dataframe tbody tr th {\n",
       "        vertical-align: top;\n",
       "    }\n",
       "\n",
       "    .dataframe thead th {\n",
       "        text-align: right;\n",
       "    }\n",
       "</style>\n",
       "<table border=\"1\" class=\"dataframe\">\n",
       "  <thead>\n",
       "    <tr style=\"text-align: right;\">\n",
       "      <th></th>\n",
       "      <th>YearsExperience</th>\n",
       "      <th>Salary</th>\n",
       "    </tr>\n",
       "  </thead>\n",
       "  <tbody>\n",
       "    <tr>\n",
       "      <th>0</th>\n",
       "      <td>1.1</td>\n",
       "      <td>39343</td>\n",
       "    </tr>\n",
       "    <tr>\n",
       "      <th>1</th>\n",
       "      <td>1.3</td>\n",
       "      <td>46205</td>\n",
       "    </tr>\n",
       "    <tr>\n",
       "      <th>2</th>\n",
       "      <td>1.5</td>\n",
       "      <td>37731</td>\n",
       "    </tr>\n",
       "    <tr>\n",
       "      <th>3</th>\n",
       "      <td>2.0</td>\n",
       "      <td>43525</td>\n",
       "    </tr>\n",
       "    <tr>\n",
       "      <th>4</th>\n",
       "      <td>2.2</td>\n",
       "      <td>39891</td>\n",
       "    </tr>\n",
       "  </tbody>\n",
       "</table>\n",
       "</div>"
      ],
      "text/plain": [
       "   YearsExperience  Salary\n",
       "0              1.1   39343\n",
       "1              1.3   46205\n",
       "2              1.5   37731\n",
       "3              2.0   43525\n",
       "4              2.2   39891"
      ]
     },
     "execution_count": 47,
     "metadata": {},
     "output_type": "execute_result"
    }
   ],
   "source": [
    "data = pd.read_csv('./Salary_Data.csv')\n",
    "data.head()"
   ]
  },
  {
   "cell_type": "code",
   "execution_count": 48,
   "id": "7bee8c1f",
   "metadata": {},
   "outputs": [],
   "source": [
    "x = data.loc[:,['YearsExperience']]\n",
    "y = data.loc[:,['Salary']]"
   ]
  },
  {
   "cell_type": "code",
   "execution_count": 49,
   "id": "47eaa90d",
   "metadata": {},
   "outputs": [
    {
     "name": "stdout",
     "output_type": "stream",
     "text": [
      "   YearsExperience\n",
      "0              1.1\n",
      "1              1.3\n",
      "2              1.5\n",
      "3              2.0\n",
      "4              2.2\n",
      "   Salary\n",
      "0   39343\n",
      "1   46205\n",
      "2   37731\n",
      "3   43525\n",
      "4   39891\n"
     ]
    }
   ],
   "source": [
    "print(x.head())\n",
    "print(y.head())"
   ]
  },
  {
   "cell_type": "code",
   "execution_count": 8,
   "id": "0992690a",
   "metadata": {},
   "outputs": [
    {
     "data": {
      "text/plain": [
       "array([ True, False, False,  True,  True,  True,  True,  True, False,\n",
       "        True, False,  True, False,  True,  True,  True,  True, False,\n",
       "        True,  True,  True,  True,  True,  True,  True,  True,  True,\n",
       "        True,  True, False])"
      ]
     },
     "execution_count": 8,
     "metadata": {},
     "output_type": "execute_result"
    }
   ],
   "source": [
    "divide = np.random.rand(len(data))<=0.8\n",
    "divide"
   ]
  },
  {
   "cell_type": "code",
   "execution_count": 11,
   "id": "a93fd99a",
   "metadata": {},
   "outputs": [],
   "source": [
    "training_set = data[divide]\n",
    "testing_set = data[~divide]"
   ]
  },
  {
   "cell_type": "code",
   "execution_count": 12,
   "id": "8eb0738c",
   "metadata": {},
   "outputs": [
    {
     "name": "stdout",
     "output_type": "stream",
     "text": [
      "    YearsExperience  Salary\n",
      "1               1.3   46205\n",
      "2               1.5   37731\n",
      "8               3.2   64445\n",
      "10              3.9   63218\n",
      "12              4.0   56957\n",
      "17              5.3   83088\n",
      "29             10.5  121872\n"
     ]
    }
   ],
   "source": [
    "print(testing_set)"
   ]
  },
  {
   "cell_type": "code",
   "execution_count": 13,
   "id": "d9ad7b48",
   "metadata": {},
   "outputs": [],
   "source": [
    "x_train = training_set.iloc[:,0]\n",
    "x_test = testing_set.iloc[:, 0]\n",
    "y_train = training_set.iloc[:,1]\n",
    "y_test = testing_set.iloc[:, 1]"
   ]
  },
  {
   "cell_type": "code",
   "execution_count": 14,
   "id": "7b8ac219",
   "metadata": {},
   "outputs": [
    {
     "data": {
      "image/png": "[encoded data removed]",
      "text/plain": [
       "<Figure size 432x288 with 1 Axes>"
      ]
     },
     "metadata": {
      "needs_background": "light"
     },
     "output_type": "display_data"
    }
   ],
   "source": [
    "plt.plot(x_train, y_train)\n",
    "plt.xlabel(\"Experience in years\")\n",
    "plt.ylabel(\"Salary\")\n",
    "plt.show()"
   ]
  },
  {
   "cell_type": "code",
   "execution_count": 25,
   "id": "31070d6e",
   "metadata": {},
   "outputs": [],
   "source": [
    "def linear_regression(x, y, learning_rate, iterations, theta0, theta1):\n",
    "    n = float(len(x))\n",
    "    for i in range(iterations):\n",
    "        prec_y = theta0 + theta1*x\n",
    "        theta1 = theta1 - (-2/n)*np.sum(x * (y - prec_y))*learning_rate\n",
    "        theta0 = theta0 - (-2/n)*np.sum(y - prec_y)*learning_rate\n",
    "    return (theta0, theta1)"
   ]
  },
  {
   "cell_type": "code",
   "execution_count": 26,
   "id": "9ee954c0",
   "metadata": {},
   "outputs": [
    {
     "name": "stdout",
     "output_type": "stream",
     "text": [
      "(8402.21922139043, 11958.428699413906)\n"
     ]
    }
   ],
   "source": [
    "print(linear_regression(x_train, y_train, 0.0001, 10000, 0, 0))"
   ]
  },
  {
   "cell_type": "code",
   "execution_count": 27,
   "id": "4c5e05fe",
   "metadata": {},
   "outputs": [
    {
     "name": "stdout",
     "output_type": "stream",
     "text": [
      "8402.21922139043\n"
     ]
    }
   ],
   "source": [
    "print(linear_regression(x_train, y_train, 0.0001, 10000, 0, 0)[0])"
   ]
  },
  {
   "cell_type": "code",
   "execution_count": 41,
   "id": "f077db9b",
   "metadata": {},
   "outputs": [],
   "source": [
    "(theta0, theta1) = linear_regression(x_train, y_train, 0.0002, 30000, 0, 0)"
   ]
  },
  {
   "cell_type": "code",
   "execution_count": 42,
   "id": "8fd658db",
   "metadata": {},
   "outputs": [
    {
     "name": "stdout",
     "output_type": "stream",
     "text": [
      "Slope: 10136.852526872284\n",
      "Intercept: 20938.593429415432\n"
     ]
    }
   ],
   "source": [
    "print(f\"Slope: {theta1}\\nIntercept: {theta0}\")"
   ]
  },
  {
   "cell_type": "code",
   "execution_count": 43,
   "id": "0307bd2f",
   "metadata": {},
   "outputs": [
    {
     "data": {
      "image/png": "[encoded data removed]",
      "text/plain": [
       "<Figure size 432x288 with 1 Axes>"
      ]
     },
     "metadata": {
      "needs_background": "light"
     },
     "output_type": "display_data"
    }
   ],
   "source": [
    "prec_y = theta0 + theta1*x_train\n",
    "plt.scatter(x_train, y_train)\n",
    "plt.xlabel(\"Experience in years\")\n",
    "plt.ylabel(\"Salary\")\n",
    "plt.plot([min(x_train), max(x_train)], [min(prec_y), max(prec_y)])\n",
    "plt.show()"
   ]
  },
  {
   "cell_type": "code",
   "execution_count": 44,
   "id": "72cdc928",
   "metadata": {},
   "outputs": [
    {
     "data": {
      "text/plain": [
       "1      34116.501714\n",
       "2      36143.872220\n",
       "8      53376.521515\n",
       "10     60472.318284\n",
       "12     61486.003537\n",
       "17     74663.911822\n",
       "29    127375.544962\n",
       "Name: YearsExperience, dtype: float64"
      ]
     },
     "execution_count": 44,
     "metadata": {},
     "output_type": "execute_result"
    }
   ],
   "source": [
    "model_prec = theta0 + theta1*x_test\n",
    "model_prec #testing data output from model parameters"
   ]
  },
  {
   "cell_type": "code",
   "execution_count": 45,
   "id": "e72ec008",
   "metadata": {},
   "outputs": [
    {
     "name": "stdout",
     "output_type": "stream",
     "text": [
      "7563.699881257977\n"
     ]
    }
   ],
   "source": [
    "n = len(x_test)\n",
    "meanSquare = (1/n)*np.sum(np.square(y_test-model_prec))\n",
    "cost = np.sqrt(meanSquare)\n",
    "print(cost)"
   ]
  },
  {
   "cell_type": "markdown",
   "id": "a0f15acb",
   "metadata": {},
   "source": [
    "## Multiple Linear Regression (3.1.2)"
   ]
  },
  {
   "cell_type": "code",
   "execution_count": 1,
   "id": "edb6b78f",
   "metadata": {},
   "outputs": [],
   "source": [
    "import numpy as np\n",
    "import pandas as pd\n",
    "import matplotlib.pyplot as plt"
   ]
  },
  {
   "cell_type": "code",
   "execution_count": 2,
   "id": "4a5065d3",
   "metadata": {},
   "outputs": [
    {
     "data": {
      "text/plain": [
       "(506, 14)"
      ]
     },
     "execution_count": 2,
     "metadata": {},
     "output_type": "execute_result"
    }
   ],
   "source": [
    "data = pd.read_csv('./housingPrices.csv', header=None, delim_whitespace=True)\n",
    "n = len(data)\n",
    "data.shape"
   ]
  },
  {
   "cell_type": "code",
   "execution_count": 3,
   "id": "564ef7b1",
   "metadata": {},
   "outputs": [
    {
     "name": "stdout",
     "output_type": "stream",
     "text": [
      "(405, 14)\n"
     ]
    }
   ],
   "source": [
    "train_data = data.sample(frac = 0.8, random_state = 25)\n",
    "test_data = data.drop(train_data.index)\n",
    "print(train_data.shape)"
   ]
  },
  {
   "cell_type": "code",
   "execution_count": 4,
   "id": "ac4d7ee1",
   "metadata": {},
   "outputs": [
    {
     "name": "stdout",
     "output_type": "stream",
     "text": [
      "(101, 14)\n"
     ]
    }
   ],
   "source": [
    "train_data = train_data.values\n",
    "test_data = test_data.values\n",
    "print(test_data.shape)"
   ]
  },
  {
   "cell_type": "code",
   "execution_count": 5,
   "id": "8bbf7012",
   "metadata": {},
   "outputs": [],
   "source": [
    "train_y = train_data[:, -1].reshape(train_data.shape[0], 1) # all rows and last column\n",
    "train_x = train_data[:, :-1] # all rows and columns(except last column)"
   ]
  },
  {
   "cell_type": "code",
   "execution_count": 6,
   "id": "336e2fb7",
   "metadata": {},
   "outputs": [],
   "source": [
    "test_y = test_data[:, -1].reshape(test_data.shape[0], 1)\n",
    "test_x = test_data[:, :-1]"
   ]
  },
  {
   "cell_type": "code",
   "execution_count": 7,
   "id": "b46e43c1",
   "metadata": {},
   "outputs": [
    {
     "name": "stdout",
     "output_type": "stream",
     "text": [
      "(405, 14)\n",
      "(101, 14)\n"
     ]
    }
   ],
   "source": [
    "train_x = np.c_[np.ones(train_x.shape[0]), train_x]\n",
    "test_x = np.c_[np.ones(test_x.shape[0]), test_x]\n",
    "print(train_x.shape)\n",
    "print(test_x.shape)"
   ]
  },
  {
   "cell_type": "code",
   "execution_count": 8,
   "id": "b6539cc7",
   "metadata": {},
   "outputs": [],
   "source": [
    "def gradient_descent(x, y, learning_rate, iterations):\n",
    "    m = y.size\n",
    "    theta = np.zeros((x.shape[1], 1))\n",
    "#     cost_list = []\n",
    "    for i in range(iterations):\n",
    "        prec_y = np.dot(x, theta)\n",
    "        cost = (1/(2*m))*np.sum(np.square(prec_y - y))\n",
    "        theta = theta - learning_rate*(1/m)*np.dot(x.T, prec_y-y)\n",
    "#         cost_list.append(cost)\n",
    "        if(i % (iterations/10) == 0):\n",
    "            print(f\"Cost: {cost}\")\n",
    "    return theta"
   ]
  },
  {
   "cell_type": "code",
   "execution_count": 10,
   "id": "ea033d05",
   "metadata": {},
   "outputs": [
    {
     "name": "stdout",
     "output_type": "stream",
     "text": [
      "Cost: 298.84829629629627\n",
      "Cost: 19.84771688334405\n",
      "Cost: 17.678868134719522\n",
      "Cost: 16.140328865301385\n",
      "Cost: 15.024895429668973\n",
      "Cost: 14.214835703851927\n",
      "Cost: 13.625728473057716\n",
      "Cost: 13.196660559812997\n",
      "Cost: 12.883608654558083\n",
      "Cost: 12.654717844389664\n"
     ]
    }
   ],
   "source": [
    "theta = gradient_descent(train_x, train_y, 0.000005, 500000)"
   ]
  },
  {
   "cell_type": "code",
   "execution_count": 11,
   "id": "d880bdb5",
   "metadata": {},
   "outputs": [],
   "source": [
    "yTestPrec = np.dot(test_x, theta)"
   ]
  },
  {
   "cell_type": "code",
   "execution_count": 12,
   "id": "57d80bd0",
   "metadata": {},
   "outputs": [
    {
     "name": "stdout",
     "output_type": "stream",
     "text": [
      "5.3297955443715415\n"
     ]
    }
   ],
   "source": [
    "m = yTestPrec.shape[0]\n",
    "error = (1/m)*np.sum(np.square(yTestPrec - test_y))\n",
    "error = np.sqrt(error)\n",
    "print(error)"
   ]
  }
 ],
 "metadata": {
  "kernelspec": {
   "display_name": "Python 3 (ipykernel)",
   "language": "python",
   "name": "python3"
  },
  "language_info": {
   "codemirror_mode": {
    "name": "ipython",
    "version": 3
   },
   "file_extension": ".py",
   "mimetype": "text/x-python",
   "name": "python",
   "nbconvert_exporter": "python",
   "pygments_lexer": "ipython3",
   "version": "3.9.7"
  }
 },
 "nbformat": 4,
 "nbformat_minor": 5
}
