{
 "cells": [
  {
   "cell_type": "code",
   "execution_count": 55,
   "id": "e91cd469",
   "metadata": {},
   "outputs": [],
   "source": [
    "import numpy as np\n",
    "import pandas as pd\n",
    "import matplotlib.pyplot as plt\n",
    "import copy"
   ]
  },
  {
   "cell_type": "code",
   "execution_count": 66,
   "id": "23ae48ff",
   "metadata": {},
   "outputs": [],
   "source": [
    "data = pd.read_csv('./Salary_Data.csv')\n",
    "train_data = pd.read_csv('./Salary_Data.csv', nrows=24) #80% training data => 24 rows"
   ]
  },
  {
   "cell_type": "code",
   "execution_count": 61,
   "id": "b7cda01c",
   "metadata": {},
   "outputs": [],
   "source": [
    "x = np.array(train_data[['YearsExperience']]) #independent variable\n",
    "y = np.array(train_data[['Salary']]) # dependent variable\n",
    "n = len(train_data)\n",
    "test_data = pd.read_csv('./Salary_Data.csv', skiprows=range(1,25))\n",
    "prec_train_data = copy.deepcopy(train_data)"
   ]
  },
  {
   "cell_type": "code",
   "execution_count": 83,
   "id": "0c393622",
   "metadata": {},
   "outputs": [],
   "source": [
    "def gradient_descent(x, y):\n",
    "    global theta0\n",
    "    global theta1\n",
    "    alpha = 0.0001\n",
    "    for i in range(100000):\n",
    "        y_est = theta0 + (theta1*x)\n",
    "        cost = (1/n)*sum((y-y_est)**2)\n",
    "        theta0 = theta0 - (alpha*(-(2/n)*sum(y-y_est)))\n",
    "        theta1 = theta1 - (alpha*(-(2/n)*sum(x*(y-y_est))))\n",
    "    prec_train_data['Salary'] = theta0 + (theta1*prec_train_data['YearsExperience'])"
   ]
  },
  {
   "cell_type": "code",
   "execution_count": 84,
   "id": "e8cbc9d5",
   "metadata": {},
   "outputs": [],
   "source": [
    "theta0 = -10.8\n",
    "theta1 = 33.22\n",
    "gradient_descent(x, y)"
   ]
  },
  {
   "cell_type": "code",
   "execution_count": 85,
   "id": "f9dd74b9",
   "metadata": {},
   "outputs": [
    {
     "data": {
      "image/png": "[encoded data removed]",
      "text/plain": [
       "<Figure size 432x288 with 1 Axes>"
      ]
     },
     "metadata": {
      "needs_background": "light"
     },
     "output_type": "display_data"
    }
   ],
   "source": [
    "plt.scatter(x, y)\n",
    "plt.plot(prec_train_data['YearsExperience'], prec_train_data['Salary'])\n",
    "plt.xlabel(\"Years Experience\")\n",
    "plt.ylabel(\"Salary\")\n",
    "plt.show()"
   ]
  },
  {
   "cell_type": "code",
   "execution_count": 74,
   "id": "6ab354d5",
   "metadata": {},
   "outputs": [
    {
     "data": {
      "text/html": [
       "<div>\n",
       "<style scoped>\n",
       "    .dataframe tbody tr th:only-of-type {\n",
       "        vertical-align: middle;\n",
       "    }\n",
       "\n",
       "    .dataframe tbody tr th {\n",
       "        vertical-align: top;\n",
       "    }\n",
       "\n",
       "    .dataframe thead th {\n",
       "        text-align: right;\n",
       "    }\n",
       "</style>\n",
       "<table border=\"1\" class=\"dataframe\">\n",
       "  <thead>\n",
       "    <tr style=\"text-align: right;\">\n",
       "      <th></th>\n",
       "      <th>YearsExperience</th>\n",
       "      <th>Salary</th>\n",
       "    </tr>\n",
       "  </thead>\n",
       "  <tbody>\n",
       "    <tr>\n",
       "      <th>0</th>\n",
       "      <td>1.1</td>\n",
       "      <td>39343</td>\n",
       "    </tr>\n",
       "    <tr>\n",
       "      <th>1</th>\n",
       "      <td>1.3</td>\n",
       "      <td>46205</td>\n",
       "    </tr>\n",
       "    <tr>\n",
       "      <th>2</th>\n",
       "      <td>1.5</td>\n",
       "      <td>37731</td>\n",
       "    </tr>\n",
       "    <tr>\n",
       "      <th>3</th>\n",
       "      <td>2.0</td>\n",
       "      <td>43525</td>\n",
       "    </tr>\n",
       "    <tr>\n",
       "      <th>4</th>\n",
       "      <td>2.2</td>\n",
       "      <td>39891</td>\n",
       "    </tr>\n",
       "  </tbody>\n",
       "</table>\n",
       "</div>"
      ],
      "text/plain": [
       "   YearsExperience  Salary\n",
       "0              1.1   39343\n",
       "1              1.3   46205\n",
       "2              1.5   37731\n",
       "3              2.0   43525\n",
       "4              2.2   39891"
      ]
     },
     "execution_count": 74,
     "metadata": {},
     "output_type": "execute_result"
    }
   ],
   "source": [
    "data.head()"
   ]
  },
  {
   "cell_type": "code",
   "execution_count": 86,
   "id": "3b62d0d7",
   "metadata": {},
   "outputs": [
    {
     "name": "stdout",
     "output_type": "stream",
     "text": [
      "Slope: [10186.11926747]\n",
      "intercept: [22977.52785562]\n"
     ]
    }
   ],
   "source": [
    "# linear regression model => salary = theta0 + experience*theta1\n",
    "# slope\n",
    "print(f\"Slope: {theta1}\")\n",
    "print(f\"intercept: {theta0}\")"
   ]
  },
  {
   "cell_type": "code",
   "execution_count": 87,
   "id": "7fef469a",
   "metadata": {},
   "outputs": [],
   "source": [
    "prec_test_data = copy.deepcopy(test_data)\n",
    "prec_test_data['Salary'] = theta0 + theta1*(prec_test_data['YearsExperience'])"
   ]
  },
  {
   "cell_type": "code",
   "execution_count": 88,
   "id": "668d6e18",
   "metadata": {},
   "outputs": [
    {
     "data": {
      "text/plain": [
       "-35705.63693978997"
      ]
     },
     "execution_count": 88,
     "metadata": {},
     "output_type": "execute_result"
    }
   ],
   "source": [
    "error = sum(test_data['Salary']-prec_test_data['Salary'])\n",
    "error"
   ]
  },
  {
   "cell_type": "code",
   "execution_count": 89,
   "id": "6fabf4b7",
   "metadata": {},
   "outputs": [
    {
     "name": "stdout",
     "output_type": "stream",
     "text": [
      "   YearsExperience  Salary\n",
      "0              8.7  109431\n",
      "1              9.0  105582\n",
      "2              9.5  116969\n",
      "3              9.6  112635\n",
      "4             10.3  122391\n",
      "5             10.5  121872\n",
      "   YearsExperience         Salary\n",
      "0              8.7  111596.765483\n",
      "1              9.0  114652.601263\n",
      "2              9.5  119745.660897\n",
      "3              9.6  120764.272823\n",
      "4             10.3  127894.556311\n",
      "5             10.5  129931.780164\n"
     ]
    }
   ],
   "source": [
    "print(test_data)\n",
    "print(prec_test_data)"
   ]
  },
  {
   "cell_type": "code",
   "execution_count": null,
   "id": "ff49ee34",
   "metadata": {},
   "outputs": [],
   "source": []
  }
 ],
 "metadata": {
  "kernelspec": {
   "display_name": "Python 3 (ipykernel)",
   "language": "python",
   "name": "python3"
  },
  "language_info": {
   "codemirror_mode": {
    "name": "ipython",
    "version": 3
   },
   "file_extension": ".py",
   "mimetype": "text/x-python",
   "name": "python",
   "nbconvert_exporter": "python",
   "pygments_lexer": "ipython3",
   "version": "3.9.7"
  }
 },
 "nbformat": 4,
 "nbformat_minor": 5
}
