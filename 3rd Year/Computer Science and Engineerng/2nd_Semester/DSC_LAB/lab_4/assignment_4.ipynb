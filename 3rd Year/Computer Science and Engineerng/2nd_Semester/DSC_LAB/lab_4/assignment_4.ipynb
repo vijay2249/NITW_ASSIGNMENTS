{
 "cells": [
  {
   "cell_type": "code",
   "execution_count": 61,
   "id": "c01219f5",
   "metadata": {},
   "outputs": [],
   "source": [
    "import pandas as pd\n",
    "import numpy as np\n",
    "import matplotlib.pyplot as plt"
   ]
  },
  {
   "cell_type": "code",
   "execution_count": 62,
   "id": "907d4070",
   "metadata": {},
   "outputs": [
    {
     "data": {
      "text/html": [
       "<div>\n",
       "<style scoped>\n",
       "    .dataframe tbody tr th:only-of-type {\n",
       "        vertical-align: middle;\n",
       "    }\n",
       "\n",
       "    .dataframe tbody tr th {\n",
       "        vertical-align: top;\n",
       "    }\n",
       "\n",
       "    .dataframe thead th {\n",
       "        text-align: right;\n",
       "    }\n",
       "</style>\n",
       "<table border=\"1\" class=\"dataframe\">\n",
       "  <thead>\n",
       "    <tr style=\"text-align: right;\">\n",
       "      <th></th>\n",
       "      <th>Position</th>\n",
       "      <th>Level</th>\n",
       "      <th>Salary</th>\n",
       "    </tr>\n",
       "  </thead>\n",
       "  <tbody>\n",
       "    <tr>\n",
       "      <th>0</th>\n",
       "      <td>Business Analyst</td>\n",
       "      <td>1</td>\n",
       "      <td>45000</td>\n",
       "    </tr>\n",
       "    <tr>\n",
       "      <th>1</th>\n",
       "      <td>Junior Consultant</td>\n",
       "      <td>2</td>\n",
       "      <td>50000</td>\n",
       "    </tr>\n",
       "    <tr>\n",
       "      <th>2</th>\n",
       "      <td>Senior Consultant</td>\n",
       "      <td>3</td>\n",
       "      <td>60000</td>\n",
       "    </tr>\n",
       "    <tr>\n",
       "      <th>3</th>\n",
       "      <td>Manager</td>\n",
       "      <td>4</td>\n",
       "      <td>80000</td>\n",
       "    </tr>\n",
       "    <tr>\n",
       "      <th>4</th>\n",
       "      <td>Country Manager</td>\n",
       "      <td>5</td>\n",
       "      <td>110000</td>\n",
       "    </tr>\n",
       "    <tr>\n",
       "      <th>5</th>\n",
       "      <td>Region Manager</td>\n",
       "      <td>6</td>\n",
       "      <td>150000</td>\n",
       "    </tr>\n",
       "    <tr>\n",
       "      <th>6</th>\n",
       "      <td>Partner</td>\n",
       "      <td>7</td>\n",
       "      <td>200000</td>\n",
       "    </tr>\n",
       "    <tr>\n",
       "      <th>7</th>\n",
       "      <td>Senior Partner</td>\n",
       "      <td>8</td>\n",
       "      <td>300000</td>\n",
       "    </tr>\n",
       "    <tr>\n",
       "      <th>8</th>\n",
       "      <td>C-level</td>\n",
       "      <td>9</td>\n",
       "      <td>500000</td>\n",
       "    </tr>\n",
       "    <tr>\n",
       "      <th>9</th>\n",
       "      <td>CEO</td>\n",
       "      <td>10</td>\n",
       "      <td>1000000</td>\n",
       "    </tr>\n",
       "  </tbody>\n",
       "</table>\n",
       "</div>"
      ],
      "text/plain": [
       "            Position  Level   Salary\n",
       "0   Business Analyst      1    45000\n",
       "1  Junior Consultant      2    50000\n",
       "2  Senior Consultant      3    60000\n",
       "3            Manager      4    80000\n",
       "4    Country Manager      5   110000\n",
       "5     Region Manager      6   150000\n",
       "6            Partner      7   200000\n",
       "7     Senior Partner      8   300000\n",
       "8            C-level      9   500000\n",
       "9                CEO     10  1000000"
      ]
     },
     "execution_count": 62,
     "metadata": {},
     "output_type": "execute_result"
    }
   ],
   "source": [
    "data = pd.read_csv('./Position_Salaries.csv')\n",
    "data"
   ]
  },
  {
   "cell_type": "code",
   "execution_count": 63,
   "id": "d589bcef",
   "metadata": {},
   "outputs": [
    {
     "data": {
      "image/png": "[encoded data removed]",
      "text/plain": [
       "<Figure size 432x288 with 1 Axes>"
      ]
     },
     "metadata": {
      "needs_background": "light"
     },
     "output_type": "display_data"
    }
   ],
   "source": [
    "plt.plot(data['Level'], data['Salary'], 'rx')\n",
    "plt.xlabel(\"Level\")\n",
    "plt.ylabel(\"Salary\")\n",
    "plt.show()"
   ]
  },
  {
   "cell_type": "code",
   "execution_count": 64,
   "id": "4876371f",
   "metadata": {},
   "outputs": [],
   "source": [
    "x = np.array([data['Level']]).T # this becomes vector (column vector)\n",
    "y = np.array(data['Salary']) # row vector"
   ]
  },
  {
   "cell_type": "code",
   "execution_count": 65,
   "id": "b469e59b",
   "metadata": {},
   "outputs": [],
   "source": [
    "#bias\n",
    "x = np.hstack((np.ones((x.shape[0], 1)), x)) # [1 x]"
   ]
  },
  {
   "cell_type": "code",
   "execution_count": 66,
   "id": "5f442a0e",
   "metadata": {},
   "outputs": [],
   "source": [
    "# adding polynomial terms\n",
    "# theta0 + theta1*x + theta2*x2 + theta3*x3\n",
    "x = np.hstack((\n",
    "        x,\n",
    "        (x[:, 1]**2).reshape((x.shape[0], 1)),\n",
    "        (x[:, 1]**3).reshape((x.shape[0], 1))\n",
    "    ))"
   ]
  },
  {
   "cell_type": "code",
   "execution_count": 67,
   "id": "3166ee67",
   "metadata": {},
   "outputs": [],
   "source": [
    "#normalization\n",
    "# x = (x-mean)/std\n",
    "x[:, 1:] = (x[:, 1:] - np.mean(x[:, 1:], axis=0))/np.std(x[:, 1:])\n",
    "#using inbuilt functions/methods to find meand and std values over dataset"
   ]
  },
  {
   "cell_type": "code",
   "execution_count": 68,
   "id": "e5aa17f1",
   "metadata": {},
   "outputs": [],
   "source": [
    "#initializing random values for theta vector\n",
    "theta = np.random.rand(x.shape[1])\n",
    "predictions = np.dot(x, theta)"
   ]
  },
  {
   "cell_type": "code",
   "execution_count": 69,
   "id": "1e4ca871",
   "metadata": {},
   "outputs": [],
   "source": [
    "#implementing the cost function\n",
    "def cost_function(x, y, theta):\n",
    "    prediction = np.dot(x, theta)\n",
    "    cost = np.mean(np.square(prediction - y))\n",
    "    return cost"
   ]
  },
  {
   "cell_type": "code",
   "execution_count": 70,
   "id": "a048c8a8",
   "metadata": {},
   "outputs": [],
   "source": [
    "#gradient descent and training model\n",
    "\n",
    "def polynomial_regression(x, y, theta, alpha, iterations):\n",
    "    m = x.shape[0]\n",
    "    for _ in range(iterations):\n",
    "        theta = theta - alpha*(1/m)*np.dot(x.T, np.dot(x, theta)-y)\n",
    "        if _ % (iterations/10) == 0:\n",
    "            print(f\"cost: {cost_function(x, y, theta)}\")\n",
    "    return theta\n",
    "\n",
    "# alpha = 0.001\n",
    "# loss = []\n",
    "# for _ in range(10000):\n",
    "#     theta = theta - alpha*(1/m)*(np.dot(x.T, np.dot(x, theta) - y))\n",
    "#     loss.append(cost_function(x, y, theta))\n",
    "#     if _%(iterations/10) == 0:\n",
    "#         print(f\"cost: {cost_function(x, y, theta)}\")\n",
    "# return theta"
   ]
  },
  {
   "cell_type": "code",
   "execution_count": 76,
   "id": "427309c3",
   "metadata": {},
   "outputs": [
    {
     "name": "stdout",
     "output_type": "stream",
     "text": [
      "cost: 5313022913.240404\n",
      "cost: 5256478182.405151\n",
      "cost: 5201372929.555522\n",
      "cost: 5147670466.006201\n",
      "cost: 5095335038.176297\n",
      "cost: 5044331803.755913\n",
      "cost: 4994626808.4800205\n",
      "cost: 4946186963.494384\n",
      "cost: 4898980023.2984\n",
      "cost: 4852974564.250033\n"
     ]
    }
   ],
   "source": [
    "theta = polynomial_regression(x, y, theta, 0.005, 50000)"
   ]
  },
  {
   "cell_type": "code",
   "execution_count": 77,
   "id": "95e99be1",
   "metadata": {},
   "outputs": [
    {
     "data": {
      "text/plain": [
       "<matplotlib.legend.Legend at 0x2df6d629f40>"
      ]
     },
     "execution_count": 77,
     "metadata": {},
     "output_type": "execute_result"
    },
    {
     "data": {
      "image/png": "[encoded data removed]",
      "text/plain": [
       "<Figure size 432x288 with 1 Axes>"
      ]
     },
     "metadata": {
      "needs_background": "light"
     },
     "output_type": "display_data"
    }
   ],
   "source": [
    "prediction = np.dot(x, theta)\n",
    "plt.plot(x[:, 1], prediction, label='prediction')\n",
    "plt.plot(x[:, 1], y, 'rx', label='data set')\n",
    "plt.legend()"
   ]
  },
  {
   "cell_type": "code",
   "execution_count": 78,
   "id": "dfb64ee7",
   "metadata": {},
   "outputs": [
    {
     "data": {
      "text/plain": [
       "1.4028046280145645e-08"
      ]
     },
     "execution_count": 78,
     "metadata": {},
     "output_type": "execute_result"
    }
   ],
   "source": [
    "loss = np.sum(y-prediction)\n",
    "loss"
   ]
  },
  {
   "cell_type": "code",
   "execution_count": null,
   "id": "2c9005c6",
   "metadata": {},
   "outputs": [],
   "source": []
  }
 ],
 "metadata": {
  "kernelspec": {
   "display_name": "Python 3 (ipykernel)",
   "language": "python",
   "name": "python3"
  },
  "language_info": {
   "codemirror_mode": {
    "name": "ipython",
    "version": 3
   },
   "file_extension": ".py",
   "mimetype": "text/x-python",
   "name": "python",
   "nbconvert_exporter": "python",
   "pygments_lexer": "ipython3",
   "version": "3.9.7"
  }
 },
 "nbformat": 4,
 "nbformat_minor": 5
}
