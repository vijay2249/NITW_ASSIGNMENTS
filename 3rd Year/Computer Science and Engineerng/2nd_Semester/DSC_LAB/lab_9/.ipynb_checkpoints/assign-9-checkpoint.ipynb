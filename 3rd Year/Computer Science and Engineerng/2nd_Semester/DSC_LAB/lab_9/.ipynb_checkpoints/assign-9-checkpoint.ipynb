{
 "cells": [
  {
   "cell_type": "markdown",
   "id": "e97948c5",
   "metadata": {},
   "source": [
    "## *Question 1*"
   ]
  },
  {
   "cell_type": "code",
   "execution_count": 61,
   "id": "c46a43e9",
   "metadata": {},
   "outputs": [],
   "source": [
    "import pandas as pd\n",
    "import numpy as np\n",
    "from sklearn.model_selection import train_test_split as split_data\n",
    "from sklearn.preprocessing import StandardScaler"
   ]
  },
  {
   "cell_type": "code",
   "execution_count": 62,
   "id": "53a82cb3",
   "metadata": {},
   "outputs": [
    {
     "data": {
      "text/html": [
       "<div>\n",
       "<style scoped>\n",
       "    .dataframe tbody tr th:only-of-type {\n",
       "        vertical-align: middle;\n",
       "    }\n",
       "\n",
       "    .dataframe tbody tr th {\n",
       "        vertical-align: top;\n",
       "    }\n",
       "\n",
       "    .dataframe thead th {\n",
       "        text-align: right;\n",
       "    }\n",
       "</style>\n",
       "<table border=\"1\" class=\"dataframe\">\n",
       "  <thead>\n",
       "    <tr style=\"text-align: right;\">\n",
       "      <th></th>\n",
       "      <th>Id</th>\n",
       "      <th>SepalLengthCm</th>\n",
       "      <th>SepalWidthCm</th>\n",
       "      <th>PetalLengthCm</th>\n",
       "      <th>PetalWidthCm</th>\n",
       "      <th>Species</th>\n",
       "    </tr>\n",
       "  </thead>\n",
       "  <tbody>\n",
       "    <tr>\n",
       "      <th>0</th>\n",
       "      <td>1</td>\n",
       "      <td>5.1</td>\n",
       "      <td>3.5</td>\n",
       "      <td>1.4</td>\n",
       "      <td>0.2</td>\n",
       "      <td>Iris-setosa</td>\n",
       "    </tr>\n",
       "    <tr>\n",
       "      <th>1</th>\n",
       "      <td>2</td>\n",
       "      <td>4.9</td>\n",
       "      <td>3.0</td>\n",
       "      <td>1.4</td>\n",
       "      <td>0.2</td>\n",
       "      <td>Iris-setosa</td>\n",
       "    </tr>\n",
       "    <tr>\n",
       "      <th>2</th>\n",
       "      <td>3</td>\n",
       "      <td>4.7</td>\n",
       "      <td>3.2</td>\n",
       "      <td>1.3</td>\n",
       "      <td>0.2</td>\n",
       "      <td>Iris-setosa</td>\n",
       "    </tr>\n",
       "    <tr>\n",
       "      <th>3</th>\n",
       "      <td>4</td>\n",
       "      <td>4.6</td>\n",
       "      <td>3.1</td>\n",
       "      <td>1.5</td>\n",
       "      <td>0.2</td>\n",
       "      <td>Iris-setosa</td>\n",
       "    </tr>\n",
       "    <tr>\n",
       "      <th>4</th>\n",
       "      <td>5</td>\n",
       "      <td>5.0</td>\n",
       "      <td>3.6</td>\n",
       "      <td>1.4</td>\n",
       "      <td>0.2</td>\n",
       "      <td>Iris-setosa</td>\n",
       "    </tr>\n",
       "  </tbody>\n",
       "</table>\n",
       "</div>"
      ],
      "text/plain": [
       "   Id  SepalLengthCm  SepalWidthCm  PetalLengthCm  PetalWidthCm      Species\n",
       "0   1            5.1           3.5            1.4           0.2  Iris-setosa\n",
       "1   2            4.9           3.0            1.4           0.2  Iris-setosa\n",
       "2   3            4.7           3.2            1.3           0.2  Iris-setosa\n",
       "3   4            4.6           3.1            1.5           0.2  Iris-setosa\n",
       "4   5            5.0           3.6            1.4           0.2  Iris-setosa"
      ]
     },
     "execution_count": 62,
     "metadata": {},
     "output_type": "execute_result"
    }
   ],
   "source": [
    "dataset = pd.read_csv(\"Iris.csv\", header=0)\n",
    "dataset.head()"
   ]
  },
  {
   "cell_type": "code",
   "execution_count": 63,
   "id": "aa1be215",
   "metadata": {},
   "outputs": [],
   "source": [
    "def convert(vector):\n",
    "    visited = []\n",
    "    ind = 0\n",
    "    result = []\n",
    "    for i in vector:\n",
    "        if i in visited:\n",
    "            result.append(visited.index(i))\n",
    "        else:\n",
    "            visited.append(i)\n",
    "            result.append(len(visited)-1)\n",
    "    return result"
   ]
  },
  {
   "cell_type": "code",
   "execution_count": 64,
   "id": "4f6c2338",
   "metadata": {},
   "outputs": [],
   "source": [
    "dataset.iloc[:, -1] = np.array(convert(dataset.iloc[:, -1].tolist()))"
   ]
  },
  {
   "cell_type": "code",
   "execution_count": 65,
   "id": "180dd877",
   "metadata": {},
   "outputs": [
    {
     "data": {
      "text/plain": [
       "(150, 4)"
      ]
     },
     "execution_count": 65,
     "metadata": {},
     "output_type": "execute_result"
    }
   ],
   "source": [
    "x = dataset.iloc[:, :-1]\n",
    "y = dataset.iloc[:, -1]\n",
    "x.drop('Id', axis=1, inplace=True)\n",
    "x.shape"
   ]
  },
  {
   "cell_type": "code",
   "execution_count": 66,
   "id": "3e3df193",
   "metadata": {},
   "outputs": [],
   "source": [
    "scaler = StandardScaler()"
   ]
  },
  {
   "cell_type": "code",
   "execution_count": 67,
   "id": "d8758d93",
   "metadata": {},
   "outputs": [],
   "source": [
    "x = scaler.fit_transform(x)"
   ]
  },
  {
   "cell_type": "code",
   "execution_count": 68,
   "id": "41ccc2c7",
   "metadata": {},
   "outputs": [],
   "source": [
    "def covariance_matrix(x):\n",
    "    return np.dot(x.T, x)/x.shape[0]"
   ]
  },
  {
   "cell_type": "code",
   "execution_count": 69,
   "id": "4cbe0024",
   "metadata": {},
   "outputs": [
    {
     "data": {
      "text/plain": [
       "array([[ 1.        , -0.10936925,  0.87175416,  0.81795363],\n",
       "       [-0.10936925,  1.        , -0.4205161 , -0.35654409],\n",
       "       [ 0.87175416, -0.4205161 ,  1.        ,  0.9627571 ],\n",
       "       [ 0.81795363, -0.35654409,  0.9627571 ,  1.        ]])"
      ]
     },
     "execution_count": 69,
     "metadata": {},
     "output_type": "execute_result"
    }
   ],
   "source": [
    "c = covariance_matrix(x)\n",
    "c"
   ]
  },
  {
   "cell_type": "code",
   "execution_count": 70,
   "id": "190bad55",
   "metadata": {},
   "outputs": [],
   "source": [
    "#finding eigen-values and eigen-vectors for covariance matrix\n",
    "def eigen_values_vectors(x):\n",
    "    eigenValues, eigenVectors = np.linalg.eig(x)\n",
    "    # sort eigenvalues descending and select columns based on n_components\n",
    "    n_cols = np.flip(np.argsort(eigenValues))\n",
    "    selected_eigen_vectors = eigenVectors[:, n_cols]\n",
    "    return np.flip(np.sort(eigenValues)),selected_eigen_vectors"
   ]
  },
  {
   "cell_type": "code",
   "execution_count": 71,
   "id": "55b238ad",
   "metadata": {},
   "outputs": [
    {
     "name": "stdout",
     "output_type": "stream",
     "text": [
      "[2.91081808 0.92122093 0.14735328 0.02060771]\n",
      "\n",
      "\n",
      "[[ 0.52237162 -0.37231836 -0.72101681  0.26199559]\n",
      " [-0.26335492 -0.92555649  0.24203288 -0.12413481]\n",
      " [ 0.58125401 -0.02109478  0.14089226 -0.80115427]\n",
      " [ 0.56561105 -0.06541577  0.6338014   0.52354627]]\n"
     ]
    }
   ],
   "source": [
    "eigenValues, eigenVectors = eigen_values_vectors(c)\n",
    "print(eigenValues)\n",
    "print(\"\\n\")\n",
    "print(eigenVectors)"
   ]
  },
  {
   "cell_type": "code",
   "execution_count": 72,
   "id": "88d933c8",
   "metadata": {},
   "outputs": [
    {
     "name": "stdout",
     "output_type": "stream",
     "text": [
      "Sum of  Explained Variance : 1.0\n",
      "Explained Variance : [0.7277045209380137, 0.23030523267680617, 0.03683831957627382, 0.005151926808906351]\n"
     ]
    }
   ],
   "source": [
    "#Plot the principal components and percentage of explained variances.\n",
    "\n",
    "explained_variances = [i/np.sum(eigenValues) for i in eigenValues]\n",
    "\n",
    "print(\"Sum of  Explained Variance :\",np.sum(explained_variances))\n",
    "print(\"Explained Variance :\", explained_variances)"
   ]
  },
  {
   "cell_type": "code",
   "execution_count": 73,
   "id": "5070dfed",
   "metadata": {},
   "outputs": [
    {
     "data": {
      "image/png": "[encoded data removed]",
      "text/plain": [
       "<Figure size 432x288 with 1 Axes>"
      ]
     },
     "metadata": {
      "needs_background": "light"
     },
     "output_type": "display_data"
    }
   ],
   "source": [
    "#Plot the principal components and percentage of explained variances.\n",
    "import matplotlib.pyplot as plt\n",
    "X_axis = [1,2,3,4]\n",
    "q = [i*100 for i in explained_variances]\n",
    "\n",
    "plt.plot(X_axis,q)\n",
    "plt.xlabel('Principal components')\n",
    "plt.ylabel('Percentage of explained variances')\n",
    "plt.title('Percentage of Variance (Information) for each by PC')\n",
    "plt.show()"
   ]
  },
  {
   "cell_type": "code",
   "execution_count": 74,
   "id": "6d08aa30",
   "metadata": {},
   "outputs": [
    {
     "data": {
      "text/plain": [
       "array([[ 0.52237162, -0.37231836],\n",
       "       [-0.26335492, -0.92555649],\n",
       "       [ 0.58125401, -0.02109478],\n",
       "       [ 0.56561105, -0.06541577]])"
      ]
     },
     "execution_count": 74,
     "metadata": {},
     "output_type": "execute_result"
    }
   ],
   "source": [
    "#consider only the features upto where the pov adds to <95% here 2\n",
    "k = 2\n",
    "eign = eigenVectors[:,:k]\n",
    "eign"
   ]
  },
  {
   "cell_type": "code",
   "execution_count": 75,
   "id": "2db2dc96",
   "metadata": {},
   "outputs": [
    {
     "name": "stdout",
     "output_type": "stream",
     "text": [
      "Transformed X :\n",
      " [[-2.26 -0.51]\n",
      " [-2.09  0.66]\n",
      " [-2.37  0.32]\n",
      " [-2.3   0.58]\n",
      " [-2.39 -0.67]\n",
      " [-2.07 -1.52]\n",
      " [-2.45 -0.07]\n",
      " [-2.23 -0.25]\n",
      " [-2.34  1.1 ]\n",
      " [-2.19  0.45]\n",
      " [-2.16 -1.07]\n",
      " [-2.33 -0.16]\n",
      " [-2.22  0.71]\n",
      " [-2.64  0.94]\n",
      " [-2.19 -1.89]\n",
      " [-2.25 -2.72]\n",
      " [-2.2  -1.51]\n",
      " [-2.19 -0.51]\n",
      " [-1.89 -1.43]\n",
      " [-2.34 -1.16]\n",
      " [-1.91 -0.43]\n",
      " [-2.2  -0.95]\n",
      " [-2.77 -0.49]\n",
      " [-1.82 -0.11]\n",
      " [-2.23 -0.16]\n",
      " [-1.96  0.61]\n",
      " [-2.05 -0.27]\n",
      " [-2.17 -0.55]\n",
      " [-2.14 -0.34]\n",
      " [-2.27  0.31]\n",
      " [-2.14  0.48]\n",
      " [-1.83 -0.45]\n",
      " [-2.61 -1.83]\n",
      " [-2.44 -2.19]\n",
      " [-2.19  0.45]\n",
      " [-2.21  0.18]\n",
      " [-2.04 -0.68]\n",
      " [-2.19  0.45]\n",
      " [-2.44  0.88]\n",
      " [-2.17 -0.29]\n",
      " [-2.29 -0.47]\n",
      " [-1.87  2.33]\n",
      " [-2.56  0.45]\n",
      " [-1.96 -0.5 ]\n",
      " [-2.13 -1.17]\n",
      " [-2.08  0.69]\n",
      " [-2.38 -1.15]\n",
      " [-2.4   0.36]\n",
      " [-2.23 -1.03]\n",
      " [-2.21 -0.03]\n",
      " [ 1.1  -0.86]\n",
      " [ 0.73 -0.6 ]\n",
      " [ 1.24 -0.61]\n",
      " [ 0.4   1.76]\n",
      " [ 1.07  0.21]\n",
      " [ 0.38  0.59]\n",
      " [ 0.75 -0.78]\n",
      " [-0.5   1.85]\n",
      " [ 0.93 -0.03]\n",
      " [ 0.    1.03]\n",
      " [-0.12  2.66]\n",
      " [ 0.44  0.06]\n",
      " [ 0.55  1.77]\n",
      " [ 0.72  0.19]\n",
      " [-0.04  0.43]\n",
      " [ 0.88 -0.51]\n",
      " [ 0.35  0.19]\n",
      " [ 0.15  0.79]\n",
      " [ 1.22  1.63]\n",
      " [ 0.16  1.3 ]\n",
      " [ 0.74 -0.4 ]\n",
      " [ 0.47  0.42]\n",
      " [ 1.23  0.94]\n",
      " [ 0.63  0.42]\n",
      " [ 0.7   0.06]\n",
      " [ 0.87 -0.25]\n",
      " [ 1.25  0.08]\n",
      " [ 1.36 -0.33]\n",
      " [ 0.66  0.22]\n",
      " [-0.05  1.06]\n",
      " [ 0.12  1.56]\n",
      " [ 0.01  1.57]\n",
      " [ 0.24  0.78]\n",
      " [ 1.06  0.64]\n",
      " [ 0.22  0.28]\n",
      " [ 0.43 -0.86]\n",
      " [ 1.05 -0.52]\n",
      " [ 1.04  1.39]\n",
      " [ 0.07  0.21]\n",
      " [ 0.28  1.33]\n",
      " [ 0.27  1.12]\n",
      " [ 0.62 -0.03]\n",
      " [ 0.33  0.99]\n",
      " [-0.37  2.02]\n",
      " [ 0.28  0.85]\n",
      " [ 0.09  0.17]\n",
      " [ 0.22  0.38]\n",
      " [ 0.57  0.15]\n",
      " [-0.46  1.54]\n",
      " [ 0.25  0.6 ]\n",
      " [ 1.85 -0.87]\n",
      " [ 1.15  0.7 ]\n",
      " [ 2.21 -0.55]\n",
      " [ 1.44  0.05]\n",
      " [ 1.87 -0.29]\n",
      " [ 2.75 -0.79]\n",
      " [ 0.36  1.56]\n",
      " [ 2.3  -0.41]\n",
      " [ 2.    0.72]\n",
      " [ 2.27 -1.92]\n",
      " [ 1.37 -0.69]\n",
      " [ 1.6   0.43]\n",
      " [ 1.88 -0.41]\n",
      " [ 1.25  1.17]\n",
      " [ 1.46  0.44]\n",
      " [ 1.59 -0.68]\n",
      " [ 1.47 -0.25]\n",
      " [ 2.44 -2.56]\n",
      " [ 3.31  0.  ]\n",
      " [ 1.25  1.72]\n",
      " [ 2.04 -0.91]\n",
      " [ 0.97  0.57]\n",
      " [ 2.9  -0.4 ]\n",
      " [ 1.33  0.49]\n",
      " [ 1.7  -1.01]\n",
      " [ 1.96 -1.  ]\n",
      " [ 1.17  0.32]\n",
      " [ 1.02 -0.07]\n",
      " [ 1.79  0.19]\n",
      " [ 1.86 -0.56]\n",
      " [ 2.44 -0.25]\n",
      " [ 2.32 -2.63]\n",
      " [ 1.86  0.18]\n",
      " [ 1.11  0.3 ]\n",
      " [ 1.2   0.82]\n",
      " [ 2.8  -0.84]\n",
      " [ 1.58 -1.07]\n",
      " [ 1.35 -0.42]\n",
      " [ 0.92 -0.02]\n",
      " [ 1.85 -0.67]\n",
      " [ 2.02 -0.61]\n",
      " [ 1.9  -0.69]\n",
      " [ 1.15  0.7 ]\n",
      " [ 2.04 -0.86]\n",
      " [ 2.   -1.05]\n",
      " [ 1.87 -0.38]\n",
      " [ 1.56  0.91]\n",
      " [ 1.52 -0.27]\n",
      " [ 1.38 -1.02]\n",
      " [ 0.96  0.02]]\n"
     ]
    }
   ],
   "source": [
    "#transform into original matrix\n",
    "X_transformed = np.dot(eign.T,x.T).T\n",
    "print(\"Transformed X :\\n\", np.around(X_transformed, 2))"
   ]
  },
  {
   "cell_type": "markdown",
   "id": "3ec6ae24",
   "metadata": {},
   "source": [
    "## *Question 2*"
   ]
  },
  {
   "cell_type": "code",
   "execution_count": 76,
   "id": "ea540f4c",
   "metadata": {},
   "outputs": [
    {
     "data": {
      "text/html": [
       "<div>\n",
       "<style scoped>\n",
       "    .dataframe tbody tr th:only-of-type {\n",
       "        vertical-align: middle;\n",
       "    }\n",
       "\n",
       "    .dataframe tbody tr th {\n",
       "        vertical-align: top;\n",
       "    }\n",
       "\n",
       "    .dataframe thead th {\n",
       "        text-align: right;\n",
       "    }\n",
       "</style>\n",
       "<table border=\"1\" class=\"dataframe\">\n",
       "  <thead>\n",
       "    <tr style=\"text-align: right;\">\n",
       "      <th></th>\n",
       "      <th>male</th>\n",
       "      <th>age</th>\n",
       "      <th>education</th>\n",
       "      <th>currentSmoker</th>\n",
       "      <th>cigsPerDay</th>\n",
       "      <th>BPMeds</th>\n",
       "      <th>prevalentStroke</th>\n",
       "      <th>prevalentHyp</th>\n",
       "      <th>diabetes</th>\n",
       "      <th>totChol</th>\n",
       "      <th>sysBP</th>\n",
       "      <th>diaBP</th>\n",
       "      <th>BMI</th>\n",
       "      <th>heartRate</th>\n",
       "      <th>glucose</th>\n",
       "      <th>TenYearCHD</th>\n",
       "    </tr>\n",
       "  </thead>\n",
       "  <tbody>\n",
       "    <tr>\n",
       "      <th>0</th>\n",
       "      <td>1</td>\n",
       "      <td>39</td>\n",
       "      <td>4.0</td>\n",
       "      <td>0</td>\n",
       "      <td>0.0</td>\n",
       "      <td>0.0</td>\n",
       "      <td>0</td>\n",
       "      <td>0</td>\n",
       "      <td>0</td>\n",
       "      <td>195.0</td>\n",
       "      <td>106.0</td>\n",
       "      <td>70.0</td>\n",
       "      <td>26.97</td>\n",
       "      <td>80.0</td>\n",
       "      <td>77.0</td>\n",
       "      <td>0</td>\n",
       "    </tr>\n",
       "    <tr>\n",
       "      <th>1</th>\n",
       "      <td>0</td>\n",
       "      <td>46</td>\n",
       "      <td>2.0</td>\n",
       "      <td>0</td>\n",
       "      <td>0.0</td>\n",
       "      <td>0.0</td>\n",
       "      <td>0</td>\n",
       "      <td>0</td>\n",
       "      <td>0</td>\n",
       "      <td>250.0</td>\n",
       "      <td>121.0</td>\n",
       "      <td>81.0</td>\n",
       "      <td>28.73</td>\n",
       "      <td>95.0</td>\n",
       "      <td>76.0</td>\n",
       "      <td>0</td>\n",
       "    </tr>\n",
       "    <tr>\n",
       "      <th>2</th>\n",
       "      <td>1</td>\n",
       "      <td>48</td>\n",
       "      <td>1.0</td>\n",
       "      <td>1</td>\n",
       "      <td>20.0</td>\n",
       "      <td>0.0</td>\n",
       "      <td>0</td>\n",
       "      <td>0</td>\n",
       "      <td>0</td>\n",
       "      <td>245.0</td>\n",
       "      <td>127.5</td>\n",
       "      <td>80.0</td>\n",
       "      <td>25.34</td>\n",
       "      <td>75.0</td>\n",
       "      <td>70.0</td>\n",
       "      <td>0</td>\n",
       "    </tr>\n",
       "    <tr>\n",
       "      <th>3</th>\n",
       "      <td>0</td>\n",
       "      <td>61</td>\n",
       "      <td>3.0</td>\n",
       "      <td>1</td>\n",
       "      <td>30.0</td>\n",
       "      <td>0.0</td>\n",
       "      <td>0</td>\n",
       "      <td>1</td>\n",
       "      <td>0</td>\n",
       "      <td>225.0</td>\n",
       "      <td>150.0</td>\n",
       "      <td>95.0</td>\n",
       "      <td>28.58</td>\n",
       "      <td>65.0</td>\n",
       "      <td>103.0</td>\n",
       "      <td>1</td>\n",
       "    </tr>\n",
       "    <tr>\n",
       "      <th>4</th>\n",
       "      <td>0</td>\n",
       "      <td>46</td>\n",
       "      <td>3.0</td>\n",
       "      <td>1</td>\n",
       "      <td>23.0</td>\n",
       "      <td>0.0</td>\n",
       "      <td>0</td>\n",
       "      <td>0</td>\n",
       "      <td>0</td>\n",
       "      <td>285.0</td>\n",
       "      <td>130.0</td>\n",
       "      <td>84.0</td>\n",
       "      <td>23.10</td>\n",
       "      <td>85.0</td>\n",
       "      <td>85.0</td>\n",
       "      <td>0</td>\n",
       "    </tr>\n",
       "  </tbody>\n",
       "</table>\n",
       "</div>"
      ],
      "text/plain": [
       "   male  age  education  currentSmoker  cigsPerDay  BPMeds  prevalentStroke  \\\n",
       "0     1   39        4.0              0         0.0     0.0                0   \n",
       "1     0   46        2.0              0         0.0     0.0                0   \n",
       "2     1   48        1.0              1        20.0     0.0                0   \n",
       "3     0   61        3.0              1        30.0     0.0                0   \n",
       "4     0   46        3.0              1        23.0     0.0                0   \n",
       "\n",
       "   prevalentHyp  diabetes  totChol  sysBP  diaBP    BMI  heartRate  glucose  \\\n",
       "0             0         0    195.0  106.0   70.0  26.97       80.0     77.0   \n",
       "1             0         0    250.0  121.0   81.0  28.73       95.0     76.0   \n",
       "2             0         0    245.0  127.5   80.0  25.34       75.0     70.0   \n",
       "3             1         0    225.0  150.0   95.0  28.58       65.0    103.0   \n",
       "4             0         0    285.0  130.0   84.0  23.10       85.0     85.0   \n",
       "\n",
       "   TenYearCHD  \n",
       "0           0  \n",
       "1           0  \n",
       "2           0  \n",
       "3           1  \n",
       "4           0  "
      ]
     },
     "execution_count": 76,
     "metadata": {},
     "output_type": "execute_result"
    }
   ],
   "source": [
    "data = pd.read_csv(\"framingham.csv\", header=0)\n",
    "data.head()"
   ]
  },
  {
   "cell_type": "code",
   "execution_count": 77,
   "id": "4bcb07db",
   "metadata": {},
   "outputs": [],
   "source": [
    "data = data.dropna() #drop all columns that contains na"
   ]
  },
  {
   "cell_type": "code",
   "execution_count": 78,
   "id": "4e4fb62e",
   "metadata": {},
   "outputs": [],
   "source": [
    "X = data.iloc[:, :-1]\n",
    "Y = data.iloc[:, -1]"
   ]
  },
  {
   "cell_type": "code",
   "execution_count": 79,
   "id": "1b3a19e1",
   "metadata": {},
   "outputs": [],
   "source": [
    "scaler = StandardScaler()\n",
    "X = scaler.fit_transform(X)"
   ]
  },
  {
   "cell_type": "code",
   "execution_count": 80,
   "id": "142ac486",
   "metadata": {},
   "outputs": [],
   "source": [
    "c2 = np.round(covariance_matrix(X), 2)"
   ]
  },
  {
   "cell_type": "code",
   "execution_count": 81,
   "id": "06f06cd1",
   "metadata": {},
   "outputs": [],
   "source": [
    "eigenValues2, eigenVectors2 = eigen_values_vectors(c2)\n",
    "eigenValues2 = np.round(eigenValues2, 2)\n",
    "eigenVectors2 = np.round(eigenVectors2, 2)"
   ]
  },
  {
   "cell_type": "code",
   "execution_count": 82,
   "id": "11289228",
   "metadata": {},
   "outputs": [
    {
     "name": "stdout",
     "output_type": "stream",
     "text": [
      "Sum of  Explained Variance : 0.9999999999999999\n",
      "Explained Variance : [0.2151898734177215, 0.1252498334443704, 0.10459693537641572, 0.07461692205196535, 0.07061958694203864, 0.0692871419053964, 0.06728847435043304, 0.05796135909393737, 0.05263157894736842, 0.04663557628247834, 0.03864090606262491, 0.025982678214523647, 0.025316455696202528, 0.014656895403064623, 0.011325782811459026]\n"
     ]
    }
   ],
   "source": [
    "explained_variances2 = [i/np.sum(eigenValues2) for i in eigenValues2]\n",
    "\n",
    "print(\"Sum of  Explained Variance :\",np.sum(explained_variances2))\n",
    "print(\"Explained Variance :\", explained_variances2)"
   ]
  },
  {
   "cell_type": "code",
   "execution_count": 83,
   "id": "1a8369b1",
   "metadata": {},
   "outputs": [
    {
     "data": {
      "image/png": "[encoded data removed]",
      "text/plain": [
       "<Figure size 432x288 with 1 Axes>"
      ]
     },
     "metadata": {
      "needs_background": "light"
     },
     "output_type": "display_data"
    }
   ],
   "source": [
    "#Plot the principal components and percentage of explained variances.\n",
    "import matplotlib.pyplot as plt\n",
    "X_axis2 = [i for i in range(1, 16)]\n",
    "q2 = [i*100 for i in explained_variances2]\n",
    "\n",
    "plt.plot(X_axis2,q2)\n",
    "plt.xlabel('Principal components')\n",
    "plt.ylabel('Percentage of explained variances')\n",
    "plt.title('Percentage of Variance (Information) for each by PC')\n",
    "plt.show()"
   ]
  },
  {
   "cell_type": "code",
   "execution_count": 85,
   "id": "9df28e77",
   "metadata": {},
   "outputs": [
    {
     "name": "stdout",
     "output_type": "stream",
     "text": [
      "k :  12\n"
     ]
    }
   ],
   "source": [
    "#consider only the features upto where the pov adds to <95%\n",
    "k2, sum2 = 0, 0\n",
    "while sum2 < 95:\n",
    "    sum2 += q2[k2]\n",
    "    k2 += 1\n",
    "k2 -= 1\n",
    "print(\"k : \",k2)\n",
    "eisub2 = eigenVectors2[:,:k2]"
   ]
  },
  {
   "cell_type": "code",
   "execution_count": 86,
   "id": "f9b340db",
   "metadata": {},
   "outputs": [
    {
     "data": {
      "text/plain": [
       "((3290, 15), (366, 15), (3290,), (366,))"
      ]
     },
     "execution_count": 86,
     "metadata": {},
     "output_type": "execute_result"
    }
   ],
   "source": [
    "#splitting the dataset into training and testing sets using sklearn.model_selection\n",
    "from sklearn.model_selection import train_test_split as split_data\n",
    "\n",
    "train_X, test_X, train_Y, test_Y = split_data(X, Y, train_size = .9, shuffle=True)\n",
    "train_X = np.array(train_X)\n",
    "test_X = np.array(test_X)\n",
    "train_Y = np.array(train_Y)\n",
    "test_Y = np.array(test_Y)\n",
    "train_X.shape, test_X.shape, train_Y.shape, test_Y.shape"
   ]
  },
  {
   "cell_type": "code",
   "execution_count": 87,
   "id": "3e574ab9",
   "metadata": {},
   "outputs": [],
   "source": [
    "# Logistic Regression\n",
    "# Implement the logic of the algorithm using Gradient Descent Function\n",
    "# Estimate linear regression coefficients using stochastic gradient descent"
   ]
  },
  {
   "cell_type": "code",
   "execution_count": 88,
   "id": "565151a0",
   "metadata": {},
   "outputs": [],
   "source": [
    "def sigmoid(z):\n",
    "    return 1.0/(1+np.exp(-z))"
   ]
  },
  {
   "cell_type": "code",
   "execution_count": 89,
   "id": "a8a8a8a6",
   "metadata": {},
   "outputs": [],
   "source": [
    "def predict(row, theta):\n",
    "    y_pred = theta[0]\n",
    "    for i in range(len(row)):\n",
    "        y_pred += theta[i + 1] * row[i]\n",
    "    return sigmoid(y_pred)"
   ]
  },
  {
   "cell_type": "code",
   "execution_count": 90,
   "id": "863be5a1",
   "metadata": {},
   "outputs": [],
   "source": [
    "def gradient_descent(x, y, alpha, epochs):\n",
    "    theta = [0.0]*(len(x)+1)\n",
    "    m = y.size\n",
    "    for epoch in range(epochs):\n",
    "        for i in range(len(x)-1):\n",
    "            prec_y = predict(x[i], theta)\n",
    "            err = y[i] - prec_y\n",
    "            theta[0] = theta[0] + alpha*err*prec_y*(1-prec_y)\n",
    "            for j in range(len(x[i])):\n",
    "                theta[j+1] = theta[j+1] + alpha*err*prec_y*(1-prec_y)*x[i][j]\n",
    "    return theta"
   ]
  },
  {
   "cell_type": "code",
   "execution_count": 91,
   "id": "c6f399aa",
   "metadata": {},
   "outputs": [],
   "source": [
    "alpha, epochs = 0.12, 1000\n",
    "theta = gradient_descent(train_X, train_Y, alpha, epochs)"
   ]
  },
  {
   "cell_type": "code",
   "execution_count": 92,
   "id": "9ae53a14",
   "metadata": {},
   "outputs": [
    {
     "data": {
      "text/plain": [
       "array([-2.,  1.,  0., ...,  0.,  0.,  0.])"
      ]
     },
     "execution_count": 92,
     "metadata": {},
     "output_type": "execute_result"
    }
   ],
   "source": [
    "np.round(theta)"
   ]
  },
  {
   "cell_type": "code",
   "execution_count": 93,
   "id": "7a892f75",
   "metadata": {},
   "outputs": [
    {
     "data": {
      "text/plain": [
       "array([0.073, 0.186, 0.126, 0.253, 0.044, 0.077, 0.018, 0.187, 0.044,\n",
       "       0.115, 0.03 , 0.21 , 0.04 , 0.043, 0.045, 0.088, 0.065, 0.022,\n",
       "       0.042, 0.308, 0.581, 0.028, 0.131, 0.243, 0.173, 0.122, 0.077,\n",
       "       0.038, 0.145, 0.076, 0.114, 0.024, 0.052, 0.135, 0.187, 0.04 ,\n",
       "       0.241, 0.022, 0.097, 0.129, 0.059, 0.14 , 0.066, 0.122, 0.223,\n",
       "       0.028, 0.073, 0.018, 0.116, 0.156, 0.198, 0.046, 0.019, 0.032,\n",
       "       0.097, 0.057, 0.037, 0.169, 0.102, 0.116, 0.177, 0.258, 0.037,\n",
       "       0.184, 0.286, 0.035, 0.05 , 0.066, 0.065, 0.031, 0.082, 0.067,\n",
       "       0.163, 0.33 , 0.163, 0.033, 0.042, 0.553, 0.138, 0.181, 0.055,\n",
       "       0.097, 0.095, 0.097, 0.079, 0.023, 0.154, 0.099, 0.246, 0.204,\n",
       "       0.023, 0.024, 0.083, 0.049, 0.238, 0.061, 0.104, 0.017, 0.043,\n",
       "       0.12 , 0.351, 0.128, 0.063, 0.174, 0.029, 0.018, 0.152, 0.169,\n",
       "       0.066, 0.035, 0.095, 0.06 , 0.046, 0.118, 0.045, 0.107, 0.038,\n",
       "       0.048, 0.389, 0.032, 0.018, 0.046, 0.038, 0.285, 0.042, 0.31 ,\n",
       "       0.065, 0.043, 0.066, 0.036, 0.031, 0.34 , 0.12 , 0.104, 0.037,\n",
       "       0.18 , 0.019, 0.096, 0.049, 0.126, 0.029, 0.113, 0.088, 0.023,\n",
       "       0.208, 0.435, 0.118, 0.084, 0.119, 0.021, 0.035, 0.204, 0.878,\n",
       "       0.063, 0.191, 0.131, 0.124, 0.08 , 0.087, 0.406, 0.124, 0.248,\n",
       "       0.356, 0.074, 0.068, 0.033, 0.096, 0.033, 0.126, 0.12 , 0.116,\n",
       "       0.05 , 0.022, 0.237, 0.189, 0.074, 0.025, 0.025, 0.035, 0.126,\n",
       "       0.072, 0.139, 0.073, 0.215, 0.064, 0.198, 0.217, 0.161, 0.113,\n",
       "       0.181, 0.133, 0.048, 0.035, 0.049, 0.127, 0.038, 0.04 , 0.064,\n",
       "       0.14 , 0.034, 0.038, 0.258, 0.324, 0.016, 0.118, 0.123, 0.028,\n",
       "       0.051, 0.14 , 0.248, 0.049, 0.178, 0.075, 0.176, 0.04 , 0.136,\n",
       "       0.034, 0.067, 0.04 , 0.171, 0.165, 0.157, 0.176, 0.226, 0.273,\n",
       "       0.241, 0.273, 0.093, 0.062, 0.361, 0.08 , 0.048, 0.048, 0.018,\n",
       "       0.088, 0.093, 0.136, 0.146, 0.063, 0.029, 0.32 , 0.025, 0.109,\n",
       "       0.27 , 0.073, 0.03 , 0.093, 0.054, 0.015, 0.025, 0.172, 0.022,\n",
       "       0.048, 0.053, 0.053, 0.124, 0.137, 0.027, 0.237, 0.13 , 0.083,\n",
       "       0.072, 0.123, 0.221, 0.305, 0.065, 0.057, 0.084, 0.059, 0.015,\n",
       "       0.045, 0.086, 0.072, 0.096, 0.1  , 0.033, 0.049, 0.296, 0.511,\n",
       "       0.055, 0.179, 0.08 , 0.114, 0.151, 0.027, 0.171, 0.125, 0.064,\n",
       "       0.098, 0.034, 0.508, 0.05 , 0.045, 0.09 , 0.055, 0.227, 0.1  ,\n",
       "       0.189, 0.53 , 0.144, 0.228, 0.089, 0.04 , 0.222, 0.033, 0.085,\n",
       "       0.215, 0.038, 0.088, 0.117, 0.03 , 0.508, 0.045, 0.198, 0.329,\n",
       "       0.111, 0.032, 0.089, 0.077, 0.047, 0.114, 0.056, 0.139, 0.059,\n",
       "       0.06 , 0.129, 0.052, 0.066, 0.363, 0.117, 0.079, 0.09 , 0.037,\n",
       "       0.232, 0.074, 0.151, 0.084, 0.198, 0.121, 0.082, 0.059, 0.108,\n",
       "       0.172, 0.02 , 0.11 , 0.054, 0.03 , 0.065, 0.044, 0.034, 0.09 ,\n",
       "       0.102, 0.14 , 0.034, 0.024, 0.153, 0.084, 0.175, 0.083, 0.015,\n",
       "       0.084, 0.101, 0.08 , 0.088, 0.053, 0.077])"
      ]
     },
     "execution_count": 93,
     "metadata": {},
     "output_type": "execute_result"
    }
   ],
   "source": [
    "# predicted_values = [i for i in predict(test_X[j], theta) for j in range(len(test_X))]\n",
    "# predicted_values = [i for j in range(len(test_X)) for i in predict(test_X[j], theta)]\n",
    "predicted_values = [predict(test_X[i], theta) for i in range(len(test_X))]\n",
    "np.round(predicted_values, 3)"
   ]
  },
  {
   "cell_type": "code",
   "execution_count": 94,
   "id": "d2aa64f5",
   "metadata": {},
   "outputs": [
    {
     "data": {
      "text/plain": [
       "-0.40073528718153123"
      ]
     },
     "execution_count": 94,
     "metadata": {},
     "output_type": "execute_result"
    }
   ],
   "source": [
    "#loss\n",
    "error = 0\n",
    "for i in range(len(test_Y)):\n",
    "    error += test_Y[i]*np.log(predicted_values[i]) + (1-test_Y[i])*np.log(1-predicted_values[i])\n",
    "meanError = error/len(test_Y)\n",
    "meanError"
   ]
  },
  {
   "cell_type": "code",
   "execution_count": null,
   "id": "8846488b",
   "metadata": {},
   "outputs": [],
   "source": []
  }
 ],
 "metadata": {
  "kernelspec": {
   "display_name": "Python 3 (ipykernel)",
   "language": "python",
   "name": "python3"
  },
  "language_info": {
   "codemirror_mode": {
    "name": "ipython",
    "version": 3
   },
   "file_extension": ".py",
   "mimetype": "text/x-python",
   "name": "python",
   "nbconvert_exporter": "python",
   "pygments_lexer": "ipython3",
   "version": "3.9.7"
  }
 },
 "nbformat": 4,
 "nbformat_minor": 5
}
