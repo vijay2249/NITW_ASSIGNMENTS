{
 "cells": [
  {
   "cell_type": "markdown",
   "id": "126e5595",
   "metadata": {},
   "source": [
    "## *Question 1*"
   ]
  },
  {
   "cell_type": "code",
   "execution_count": 88,
   "id": "420b7c87",
   "metadata": {},
   "outputs": [],
   "source": [
    "import numpy as np\n",
    "import pandas as pd\n",
    "from sklearn.model_selection import train_test_split as split_data\n",
    "from sklearn.metrics import mean_squared_error"
   ]
  },
  {
   "cell_type": "code",
   "execution_count": 89,
   "id": "9727f192",
   "metadata": {},
   "outputs": [],
   "source": [
    "def ReLU(vector):\n",
    "    return np.maximum(0, vector)"
   ]
  },
  {
   "cell_type": "code",
   "execution_count": 90,
   "id": "687308ce",
   "metadata": {},
   "outputs": [],
   "source": [
    "def initializeParams(sizes):\n",
    "    params = {}\n",
    "    for i in range(1, len(sizes)):\n",
    "        params['W' + str(i)] = np.random.rand(sizes[i], sizes[i-1])*0.01\n",
    "        params['B' + str(i)] = np.random.rand(sizes[i], 1)*0.01\n",
    "    return params"
   ]
  },
  {
   "cell_type": "code",
   "execution_count": 91,
   "id": "a445e213",
   "metadata": {},
   "outputs": [],
   "source": [
    "def forward_propagation(x, params):\n",
    "    layers = len(params)//2\n",
    "    weights = {}\n",
    "    for i in range(1, layers + 1):\n",
    "        weights['Z'+str(i)] = np.dot(params['W'+str(i)], x) + params['B'+str(i)] if i == 1 else np.dot(params['W'+str(i)], weights['A'+str(i-1)]) + params['B'+str(i)]\n",
    "        weights['A'+str(i)] = weights['Z'+str(i)] if i == layers else ReLU(weights['Z'+str(i)])\n",
    "    return weights"
   ]
  },
  {
   "cell_type": "code",
   "execution_count": 92,
   "id": "d22916c4",
   "metadata": {},
   "outputs": [],
   "source": [
    "def compute_cost(weights, y):\n",
    "    layers = len(weights)//2\n",
    "    predicted_y = weights['A' + str(layers)].T\n",
    "    cost = (1/(2*len(y)))*np.sum(np.square(predicted_y - y))\n",
    "    return cost"
   ]
  },
  {
   "cell_type": "code",
   "execution_count": 93,
   "id": "f015129e",
   "metadata": {},
   "outputs": [],
   "source": [
    "def backward_propagation(x, y, weights, params):\n",
    "    layers = len(params)//2\n",
    "    m = len(y)\n",
    "    gradients = {}\n",
    "    for i in range(layers, 0, -1):\n",
    "        dA = np.dot(params['W'+str(i+1)].T, dZ) if (i!=layers) else (1/m)*(weights['A'+str(i)]-y)\n",
    "        dZ = np.multiply(dA, np.where(weights['A'+str(i)]>=0, 1, 0)) if (i!=layers) else dA\n",
    "        gradients['W'+str(i)] = (1/m)*np.dot(dZ, weights['A'+str(i-1)].T) if (i!=1) else (1/m)*np.dot(dZ, x.T)\n",
    "        gradients['B'+str(i)] = (1/m)*np.sum(dZ, axis=1, keepdims=True)\n",
    "    return gradients"
   ]
  },
  {
   "cell_type": "code",
   "execution_count": 94,
   "id": "ab7c60b3",
   "metadata": {},
   "outputs": [],
   "source": [
    "def updating_params(params, gradients, alpha):\n",
    "    layers = len(params)//2\n",
    "    updated_params = {}\n",
    "    for i in range(1, layers+1):\n",
    "        updated_params['W'+str(i)] = params['W'+str(i)] - alpha*(gradients['W'+str(i)])\n",
    "        updated_params['B'+str(i)] = params['B'+str(i)] - alpha*(gradients['B'+str(i)])\n",
    "    return updated_params"
   ]
  },
  {
   "cell_type": "code",
   "execution_count": 95,
   "id": "8bf8b2b1",
   "metadata": {},
   "outputs": [],
   "source": [
    "def train_model(x, y, layerSize, epochs, alpha):\n",
    "    params = initializeParams(layerSize)\n",
    "    for i in range(epochs):\n",
    "        forward_predict = forward_propagation(x.T, params)\n",
    "        cost = compute_cost(forward_predict, y.T)\n",
    "        gradients = backward_propagation(x.T, y.T, forward_predict, params)\n",
    "        params = updating_params(params, gradients, alpha)\n",
    "    return params"
   ]
  },
  {
   "cell_type": "code",
   "execution_count": 96,
   "id": "60291c5d",
   "metadata": {},
   "outputs": [],
   "source": [
    "def compute_accuracy(train_x, test_x, train_y, test_y, params, layerSizes):\n",
    "    values_train = forward_propagation(train_x.T, params)\n",
    "    values_test = forward_propagation(test_x.T, params)\n",
    "    train_acc = np.sqrt(mean_squared_error(train_y, values_train['A'+str(len(layer_sizes)-1)].T))\n",
    "    test_acc = np.sqrt(mean_squared_error(test_y, values_test['A'+str(len(layer_sizes)-1)].T))\n",
    "    return train_acc, test_acc"
   ]
  },
  {
   "cell_type": "code",
   "execution_count": 97,
   "id": "df544f9e",
   "metadata": {},
   "outputs": [],
   "source": [
    "def predict(x, params):\n",
    "    values = forward_propagation(x.T, params)\n",
    "    predictions = values['A'+str(len(values)//2)].T\n",
    "    return predictions"
   ]
  },
  {
   "cell_type": "code",
   "execution_count": 98,
   "id": "25ab9b07",
   "metadata": {},
   "outputs": [
    {
     "data": {
      "text/html": [
       "<div>\n",
       "<style scoped>\n",
       "    .dataframe tbody tr th:only-of-type {\n",
       "        vertical-align: middle;\n",
       "    }\n",
       "\n",
       "    .dataframe tbody tr th {\n",
       "        vertical-align: top;\n",
       "    }\n",
       "\n",
       "    .dataframe thead th {\n",
       "        text-align: right;\n",
       "    }\n",
       "</style>\n",
       "<table border=\"1\" class=\"dataframe\">\n",
       "  <thead>\n",
       "    <tr style=\"text-align: right;\">\n",
       "      <th></th>\n",
       "      <th>CRIM</th>\n",
       "      <th>ZN</th>\n",
       "      <th>INDUS</th>\n",
       "      <th>CHAS</th>\n",
       "      <th>NOX</th>\n",
       "      <th>RM</th>\n",
       "      <th>AGE</th>\n",
       "      <th>DIS</th>\n",
       "      <th>RAD</th>\n",
       "      <th>TAX</th>\n",
       "      <th>PTRATIO</th>\n",
       "      <th>B</th>\n",
       "      <th>LSTAT</th>\n",
       "      <th>MEDV</th>\n",
       "    </tr>\n",
       "  </thead>\n",
       "  <tbody>\n",
       "    <tr>\n",
       "      <th>0</th>\n",
       "      <td>0.00632</td>\n",
       "      <td>18.0</td>\n",
       "      <td>2.31</td>\n",
       "      <td>0</td>\n",
       "      <td>0.538</td>\n",
       "      <td>6.575</td>\n",
       "      <td>65.2</td>\n",
       "      <td>4.0900</td>\n",
       "      <td>1</td>\n",
       "      <td>296.0</td>\n",
       "      <td>15.3</td>\n",
       "      <td>396.90</td>\n",
       "      <td>4.98</td>\n",
       "      <td>24.0</td>\n",
       "    </tr>\n",
       "    <tr>\n",
       "      <th>1</th>\n",
       "      <td>0.02731</td>\n",
       "      <td>0.0</td>\n",
       "      <td>7.07</td>\n",
       "      <td>0</td>\n",
       "      <td>0.469</td>\n",
       "      <td>6.421</td>\n",
       "      <td>78.9</td>\n",
       "      <td>4.9671</td>\n",
       "      <td>2</td>\n",
       "      <td>242.0</td>\n",
       "      <td>17.8</td>\n",
       "      <td>396.90</td>\n",
       "      <td>9.14</td>\n",
       "      <td>21.6</td>\n",
       "    </tr>\n",
       "    <tr>\n",
       "      <th>2</th>\n",
       "      <td>0.02729</td>\n",
       "      <td>0.0</td>\n",
       "      <td>7.07</td>\n",
       "      <td>0</td>\n",
       "      <td>0.469</td>\n",
       "      <td>7.185</td>\n",
       "      <td>61.1</td>\n",
       "      <td>4.9671</td>\n",
       "      <td>2</td>\n",
       "      <td>242.0</td>\n",
       "      <td>17.8</td>\n",
       "      <td>392.83</td>\n",
       "      <td>4.03</td>\n",
       "      <td>34.7</td>\n",
       "    </tr>\n",
       "    <tr>\n",
       "      <th>3</th>\n",
       "      <td>0.03237</td>\n",
       "      <td>0.0</td>\n",
       "      <td>2.18</td>\n",
       "      <td>0</td>\n",
       "      <td>0.458</td>\n",
       "      <td>6.998</td>\n",
       "      <td>45.8</td>\n",
       "      <td>6.0622</td>\n",
       "      <td>3</td>\n",
       "      <td>222.0</td>\n",
       "      <td>18.7</td>\n",
       "      <td>394.63</td>\n",
       "      <td>2.94</td>\n",
       "      <td>33.4</td>\n",
       "    </tr>\n",
       "    <tr>\n",
       "      <th>4</th>\n",
       "      <td>0.06905</td>\n",
       "      <td>0.0</td>\n",
       "      <td>2.18</td>\n",
       "      <td>0</td>\n",
       "      <td>0.458</td>\n",
       "      <td>7.147</td>\n",
       "      <td>54.2</td>\n",
       "      <td>6.0622</td>\n",
       "      <td>3</td>\n",
       "      <td>222.0</td>\n",
       "      <td>18.7</td>\n",
       "      <td>396.90</td>\n",
       "      <td>5.33</td>\n",
       "      <td>36.2</td>\n",
       "    </tr>\n",
       "  </tbody>\n",
       "</table>\n",
       "</div>"
      ],
      "text/plain": [
       "      CRIM    ZN  INDUS  CHAS    NOX     RM   AGE     DIS  RAD    TAX  \\\n",
       "0  0.00632  18.0   2.31     0  0.538  6.575  65.2  4.0900    1  296.0   \n",
       "1  0.02731   0.0   7.07     0  0.469  6.421  78.9  4.9671    2  242.0   \n",
       "2  0.02729   0.0   7.07     0  0.469  7.185  61.1  4.9671    2  242.0   \n",
       "3  0.03237   0.0   2.18     0  0.458  6.998  45.8  6.0622    3  222.0   \n",
       "4  0.06905   0.0   2.18     0  0.458  7.147  54.2  6.0622    3  222.0   \n",
       "\n",
       "   PTRATIO       B  LSTAT  MEDV  \n",
       "0     15.3  396.90   4.98  24.0  \n",
       "1     17.8  396.90   9.14  21.6  \n",
       "2     17.8  392.83   4.03  34.7  \n",
       "3     18.7  394.63   2.94  33.4  \n",
       "4     18.7  396.90   5.33  36.2  "
      ]
     },
     "execution_count": 98,
     "metadata": {},
     "output_type": "execute_result"
    }
   ],
   "source": [
    "data = pd.read_csv('boston.csv', header=0)\n",
    "data.head()"
   ]
  },
  {
   "cell_type": "code",
   "execution_count": 99,
   "id": "9d41ef45",
   "metadata": {
    "scrolled": true
   },
   "outputs": [],
   "source": [
    "x = data.iloc[:, :-1]\n",
    "y = data.iloc[:, -1]"
   ]
  },
  {
   "cell_type": "code",
   "execution_count": 100,
   "id": "9dfe4dbd",
   "metadata": {},
   "outputs": [],
   "source": [
    "train_x, test_x, train_y, test_y = split_data(x, y, train_size=0.8, shuffle=True)\n",
    "train_x = np.array(train_x)\n",
    "test_x = np.array(test_x)\n",
    "train_y = np.array(train_y)\n",
    "test_y = np.array(test_y)"
   ]
  },
  {
   "cell_type": "code",
   "execution_count": 103,
   "id": "b2e17897",
   "metadata": {
    "scrolled": true
   },
   "outputs": [],
   "source": [
    "epochs, alpha, layerSizes = 3000, 0.04, [13, 6, 5, 1]\n",
    "parameters = train_model(train_x, train_y, layerSizes, epochs, alpha)"
   ]
  },
  {
   "cell_type": "code",
   "execution_count": 104,
   "id": "f1cf99b4",
   "metadata": {},
   "outputs": [
    {
     "data": {
      "text/plain": [
       "array([[ 2.23, 15.23, -2.47, ..., 11.33, -5.07,  3.53],\n",
       "       [ 1.04, 14.04, -3.66, ..., 10.14, -6.26,  2.34],\n",
       "       [ 6.89, 19.89,  2.19, ..., 15.99, -0.41,  8.19],\n",
       "       ...,\n",
       "       [ 1.38, 14.38, -3.32, ..., 10.48, -5.92,  2.68],\n",
       "       [13.93, 26.93,  9.23, ..., 23.03,  6.63, 15.23],\n",
       "       [ 2.19, 15.19, -2.51, ..., 11.29, -5.11,  3.49]])"
      ]
     },
     "execution_count": 104,
     "metadata": {},
     "output_type": "execute_result"
    }
   ],
   "source": [
    "predict_y = predict(test_x, parameters)\n",
    "np.round(predict_y-test_y, 2)"
   ]
  },
  {
   "cell_type": "markdown",
   "id": "901d21c3",
   "metadata": {},
   "source": [
    "## *Question 2*"
   ]
  },
  {
   "cell_type": "code",
   "execution_count": 116,
   "id": "9532254c",
   "metadata": {
    "collapsed": true
   },
   "outputs": [
    {
     "data": {
      "text/html": [
       "<div>\n",
       "<style scoped>\n",
       "    .dataframe tbody tr th:only-of-type {\n",
       "        vertical-align: middle;\n",
       "    }\n",
       "\n",
       "    .dataframe tbody tr th {\n",
       "        vertical-align: top;\n",
       "    }\n",
       "\n",
       "    .dataframe thead th {\n",
       "        text-align: right;\n",
       "    }\n",
       "</style>\n",
       "<table border=\"1\" class=\"dataframe\">\n",
       "  <thead>\n",
       "    <tr style=\"text-align: right;\">\n",
       "      <th></th>\n",
       "      <th>Area</th>\n",
       "      <th>Perimeter</th>\n",
       "      <th>Compactness</th>\n",
       "      <th>Kernel.Length</th>\n",
       "      <th>Kernel.Width</th>\n",
       "      <th>Asymmetry.Coeff</th>\n",
       "      <th>Kernel.Groove</th>\n",
       "      <th>Type</th>\n",
       "    </tr>\n",
       "  </thead>\n",
       "  <tbody>\n",
       "    <tr>\n",
       "      <th>0</th>\n",
       "      <td>15.26</td>\n",
       "      <td>14.84</td>\n",
       "      <td>0.8710</td>\n",
       "      <td>5.763</td>\n",
       "      <td>3.312</td>\n",
       "      <td>2.221</td>\n",
       "      <td>5.220</td>\n",
       "      <td>1</td>\n",
       "    </tr>\n",
       "    <tr>\n",
       "      <th>1</th>\n",
       "      <td>14.88</td>\n",
       "      <td>14.57</td>\n",
       "      <td>0.8811</td>\n",
       "      <td>5.554</td>\n",
       "      <td>3.333</td>\n",
       "      <td>1.018</td>\n",
       "      <td>4.956</td>\n",
       "      <td>1</td>\n",
       "    </tr>\n",
       "    <tr>\n",
       "      <th>2</th>\n",
       "      <td>14.29</td>\n",
       "      <td>14.09</td>\n",
       "      <td>0.9050</td>\n",
       "      <td>5.291</td>\n",
       "      <td>3.337</td>\n",
       "      <td>2.699</td>\n",
       "      <td>4.825</td>\n",
       "      <td>1</td>\n",
       "    </tr>\n",
       "    <tr>\n",
       "      <th>3</th>\n",
       "      <td>13.84</td>\n",
       "      <td>13.94</td>\n",
       "      <td>0.8955</td>\n",
       "      <td>5.324</td>\n",
       "      <td>3.379</td>\n",
       "      <td>2.259</td>\n",
       "      <td>4.805</td>\n",
       "      <td>1</td>\n",
       "    </tr>\n",
       "    <tr>\n",
       "      <th>4</th>\n",
       "      <td>16.14</td>\n",
       "      <td>14.99</td>\n",
       "      <td>0.9034</td>\n",
       "      <td>5.658</td>\n",
       "      <td>3.562</td>\n",
       "      <td>1.355</td>\n",
       "      <td>5.175</td>\n",
       "      <td>1</td>\n",
       "    </tr>\n",
       "  </tbody>\n",
       "</table>\n",
       "</div>"
      ],
      "text/plain": [
       "    Area  Perimeter  Compactness  Kernel.Length  Kernel.Width  \\\n",
       "0  15.26      14.84       0.8710          5.763         3.312   \n",
       "1  14.88      14.57       0.8811          5.554         3.333   \n",
       "2  14.29      14.09       0.9050          5.291         3.337   \n",
       "3  13.84      13.94       0.8955          5.324         3.379   \n",
       "4  16.14      14.99       0.9034          5.658         3.562   \n",
       "\n",
       "   Asymmetry.Coeff  Kernel.Groove  Type  \n",
       "0            2.221          5.220     1  \n",
       "1            1.018          4.956     1  \n",
       "2            2.699          4.825     1  \n",
       "3            2.259          4.805     1  \n",
       "4            1.355          5.175     1  "
      ]
     },
     "execution_count": 116,
     "metadata": {},
     "output_type": "execute_result"
    }
   ],
   "source": [
    "dataset = pd.read_csv('seeds.csv', header=0)\n",
    "dataset.head()"
   ]
  },
  {
   "cell_type": "code",
   "execution_count": 117,
   "id": "99a5e30a",
   "metadata": {},
   "outputs": [],
   "source": [
    "X = dataset.iloc[:, :-1]\n",
    "Y = dataset.iloc[:, -1]"
   ]
  },
  {
   "cell_type": "code",
   "execution_count": 118,
   "id": "93876b4e",
   "metadata": {},
   "outputs": [],
   "source": [
    "train_X, test_X, train_Y, test_Y = split_data(X, Y, train_size=0.8, shuffle=True)\n",
    "train_X = np.array(train_X)\n",
    "test_X = np.array(test_X)\n",
    "train_Y = np.array(train_Y)\n",
    "test_Y = np.array(test_Y)"
   ]
  },
  {
   "cell_type": "code",
   "execution_count": 119,
   "id": "2ec0ae14",
   "metadata": {},
   "outputs": [],
   "source": [
    "epochs2, alpha2, layerSizes2 = 3000, 0.04, [7, 6, 5, 1]\n",
    "parameters2 = train_model(train_X, train_Y, layerSizes2, epochs2, alpha2)"
   ]
  },
  {
   "cell_type": "code",
   "execution_count": 120,
   "id": "307bb0b7",
   "metadata": {},
   "outputs": [
    {
     "data": {
      "text/plain": [
       "array([[-0.94,  0.06,  0.06, ..., -0.94, -0.94, -1.94],\n",
       "       [-0.95,  0.05,  0.05, ..., -0.95, -0.95, -1.95],\n",
       "       [-0.95,  0.05,  0.05, ..., -0.95, -0.95, -1.95],\n",
       "       ...,\n",
       "       [-0.94,  0.06,  0.06, ..., -0.94, -0.94, -1.94],\n",
       "       [-0.94,  0.06,  0.06, ..., -0.94, -0.94, -1.94],\n",
       "       [-0.95,  0.05,  0.05, ..., -0.95, -0.95, -1.95]])"
      ]
     },
     "execution_count": 120,
     "metadata": {},
     "output_type": "execute_result"
    }
   ],
   "source": [
    "predict_y2 = predict(test_X, parameters2)\n",
    "np.round(predict_y2-test_Y, 2)"
   ]
  },
  {
   "cell_type": "code",
   "execution_count": null,
   "id": "368fb506",
   "metadata": {},
   "outputs": [],
   "source": []
  }
 ],
 "metadata": {
  "kernelspec": {
   "display_name": "Python 3 (ipykernel)",
   "language": "python",
   "name": "python3"
  },
  "language_info": {
   "codemirror_mode": {
    "name": "ipython",
    "version": 3
   },
   "file_extension": ".py",
   "mimetype": "text/x-python",
   "name": "python",
   "nbconvert_exporter": "python",
   "pygments_lexer": "ipython3",
   "version": "3.9.7"
  }
 },
 "nbformat": 4,
 "nbformat_minor": 5
}
